{
 "cells": [
  {
   "cell_type": "code",
   "execution_count": 1,
   "id": "f9e0ccbe",
   "metadata": {
    "_cell_guid": "b1076dfc-b9ad-4769-8c92-a6c4dae69d19",
    "_uuid": "8f2839f25d086af736a60e9eeb907d3b93b6e0e5",
    "execution": {
     "iopub.execute_input": "2024-05-08T02:55:16.891345Z",
     "iopub.status.busy": "2024-05-08T02:55:16.890979Z",
     "iopub.status.idle": "2024-05-08T02:55:16.896665Z",
     "shell.execute_reply": "2024-05-08T02:55:16.895849Z"
    },
    "papermill": {
     "duration": 0.02288,
     "end_time": "2024-05-08T02:55:16.898777",
     "exception": false,
     "start_time": "2024-05-08T02:55:16.875897",
     "status": "completed"
    },
    "tags": []
   },
   "outputs": [],
   "source": [
    "# # This Python 3 environment comes with many helpful analytics libraries installed\n",
    "# # It is defined by the kaggle/python Docker image: https://github.com/kaggle/docker-python\n",
    "# # For example, here's several helpful packages to load\n",
    "\n",
    "# import numpy as np # linear algebra\n",
    "# import pandas as pd # data processing, CSV file I/O (e.g. pd.read_csv)\n",
    "\n",
    "# # Input data files are available in the read-only \"../input/\" directory\n",
    "# # For example, running this (by clicking run or pressing Shift+Enter) will list all files under the input directory\n",
    "\n",
    "# import os\n",
    "# for dirname, _, filenames in os.walk('/kaggle/input'):\n",
    "#     for filename in filenames:\n",
    "#         print(os.path.join(dirname, filename))\n",
    "\n",
    "# # You can write up to 20GB to the current directory (/kaggle/working/) that gets preserved as output when you create a version using \"Save & Run All\" \n",
    "# # You can also write temporary files to /kaggle/temp/, but they won't be saved outside of the current session"
   ]
  },
  {
   "cell_type": "code",
   "execution_count": 2,
   "id": "b5fca4ae",
   "metadata": {
    "execution": {
     "iopub.execute_input": "2024-05-08T02:55:16.925129Z",
     "iopub.status.busy": "2024-05-08T02:55:16.924870Z",
     "iopub.status.idle": "2024-05-08T02:55:31.276943Z",
     "shell.execute_reply": "2024-05-08T02:55:31.275940Z"
    },
    "papermill": {
     "duration": 14.367888,
     "end_time": "2024-05-08T02:55:31.279244",
     "exception": false,
     "start_time": "2024-05-08T02:55:16.911356",
     "status": "completed"
    },
    "tags": []
   },
   "outputs": [
    {
     "name": "stdout",
     "output_type": "stream",
     "text": [
      "Collecting evaluate\r\n",
      "  Downloading evaluate-0.4.2-py3-none-any.whl.metadata (9.3 kB)\r\n",
      "Requirement already satisfied: datasets>=2.0.0 in /opt/conda/lib/python3.10/site-packages (from evaluate) (2.18.0)\r\n",
      "Requirement already satisfied: numpy>=1.17 in /opt/conda/lib/python3.10/site-packages (from evaluate) (1.26.4)\r\n",
      "Requirement already satisfied: dill in /opt/conda/lib/python3.10/site-packages (from evaluate) (0.3.8)\r\n",
      "Requirement already satisfied: pandas in /opt/conda/lib/python3.10/site-packages (from evaluate) (2.1.4)\r\n",
      "Requirement already satisfied: requests>=2.19.0 in /opt/conda/lib/python3.10/site-packages (from evaluate) (2.31.0)\r\n",
      "Requirement already satisfied: tqdm>=4.62.1 in /opt/conda/lib/python3.10/site-packages (from evaluate) (4.66.1)\r\n",
      "Requirement already satisfied: xxhash in /opt/conda/lib/python3.10/site-packages (from evaluate) (3.4.1)\r\n",
      "Requirement already satisfied: multiprocess in /opt/conda/lib/python3.10/site-packages (from evaluate) (0.70.16)\r\n",
      "Requirement already satisfied: fsspec>=2021.05.0 in /opt/conda/lib/python3.10/site-packages (from fsspec[http]>=2021.05.0->evaluate) (2024.2.0)\r\n",
      "Requirement already satisfied: huggingface-hub>=0.7.0 in /opt/conda/lib/python3.10/site-packages (from evaluate) (0.22.2)\r\n",
      "Requirement already satisfied: packaging in /opt/conda/lib/python3.10/site-packages (from evaluate) (21.3)\r\n",
      "Requirement already satisfied: filelock in /opt/conda/lib/python3.10/site-packages (from datasets>=2.0.0->evaluate) (3.13.1)\r\n",
      "Requirement already satisfied: pyarrow>=12.0.0 in /opt/conda/lib/python3.10/site-packages (from datasets>=2.0.0->evaluate) (15.0.2)\r\n",
      "Requirement already satisfied: pyarrow-hotfix in /opt/conda/lib/python3.10/site-packages (from datasets>=2.0.0->evaluate) (0.6)\r\n",
      "Requirement already satisfied: aiohttp in /opt/conda/lib/python3.10/site-packages (from datasets>=2.0.0->evaluate) (3.9.1)\r\n",
      "Requirement already satisfied: pyyaml>=5.1 in /opt/conda/lib/python3.10/site-packages (from datasets>=2.0.0->evaluate) (6.0.1)\r\n",
      "Requirement already satisfied: typing-extensions>=3.7.4.3 in /opt/conda/lib/python3.10/site-packages (from huggingface-hub>=0.7.0->evaluate) (4.9.0)\r\n",
      "Requirement already satisfied: pyparsing!=3.0.5,>=2.0.2 in /opt/conda/lib/python3.10/site-packages (from packaging->evaluate) (3.1.1)\r\n",
      "Requirement already satisfied: charset-normalizer<4,>=2 in /opt/conda/lib/python3.10/site-packages (from requests>=2.19.0->evaluate) (3.3.2)\r\n",
      "Requirement already satisfied: idna<4,>=2.5 in /opt/conda/lib/python3.10/site-packages (from requests>=2.19.0->evaluate) (3.6)\r\n",
      "Requirement already satisfied: urllib3<3,>=1.21.1 in /opt/conda/lib/python3.10/site-packages (from requests>=2.19.0->evaluate) (1.26.18)\r\n",
      "Requirement already satisfied: certifi>=2017.4.17 in /opt/conda/lib/python3.10/site-packages (from requests>=2.19.0->evaluate) (2024.2.2)\r\n",
      "Requirement already satisfied: python-dateutil>=2.8.2 in /opt/conda/lib/python3.10/site-packages (from pandas->evaluate) (2.9.0.post0)\r\n",
      "Requirement already satisfied: pytz>=2020.1 in /opt/conda/lib/python3.10/site-packages (from pandas->evaluate) (2023.3.post1)\r\n",
      "Requirement already satisfied: tzdata>=2022.1 in /opt/conda/lib/python3.10/site-packages (from pandas->evaluate) (2023.4)\r\n",
      "Requirement already satisfied: attrs>=17.3.0 in /opt/conda/lib/python3.10/site-packages (from aiohttp->datasets>=2.0.0->evaluate) (23.2.0)\r\n",
      "Requirement already satisfied: multidict<7.0,>=4.5 in /opt/conda/lib/python3.10/site-packages (from aiohttp->datasets>=2.0.0->evaluate) (6.0.4)\r\n",
      "Requirement already satisfied: yarl<2.0,>=1.0 in /opt/conda/lib/python3.10/site-packages (from aiohttp->datasets>=2.0.0->evaluate) (1.9.3)\r\n",
      "Requirement already satisfied: frozenlist>=1.1.1 in /opt/conda/lib/python3.10/site-packages (from aiohttp->datasets>=2.0.0->evaluate) (1.4.1)\r\n",
      "Requirement already satisfied: aiosignal>=1.1.2 in /opt/conda/lib/python3.10/site-packages (from aiohttp->datasets>=2.0.0->evaluate) (1.3.1)\r\n",
      "Requirement already satisfied: async-timeout<5.0,>=4.0 in /opt/conda/lib/python3.10/site-packages (from aiohttp->datasets>=2.0.0->evaluate) (4.0.3)\r\n",
      "Requirement already satisfied: six>=1.5 in /opt/conda/lib/python3.10/site-packages (from python-dateutil>=2.8.2->pandas->evaluate) (1.16.0)\r\n",
      "Downloading evaluate-0.4.2-py3-none-any.whl (84 kB)\r\n",
      "\u001b[2K   \u001b[90m━━━━━━━━━━━━━━━━━━━━━━━━━━━━━━━━━━━━━━━━\u001b[0m \u001b[32m84.1/84.1 kB\u001b[0m \u001b[31m899.3 kB/s\u001b[0m eta \u001b[36m0:00:00\u001b[0m\r\n",
      "\u001b[?25hInstalling collected packages: evaluate\r\n",
      "Successfully installed evaluate-0.4.2\r\n"
     ]
    }
   ],
   "source": [
    "!pip install evaluate"
   ]
  },
  {
   "cell_type": "code",
   "execution_count": 3,
   "id": "8ac5a26d",
   "metadata": {
    "execution": {
     "iopub.execute_input": "2024-05-08T02:55:31.308855Z",
     "iopub.status.busy": "2024-05-08T02:55:31.308535Z",
     "iopub.status.idle": "2024-05-08T02:55:51.972377Z",
     "shell.execute_reply": "2024-05-08T02:55:51.971516Z"
    },
    "papermill": {
     "duration": 20.68127,
     "end_time": "2024-05-08T02:55:51.974629",
     "exception": false,
     "start_time": "2024-05-08T02:55:31.293359",
     "status": "completed"
    },
    "tags": []
   },
   "outputs": [
    {
     "name": "stderr",
     "output_type": "stream",
     "text": [
      "2024-05-08 02:55:42.662975: E external/local_xla/xla/stream_executor/cuda/cuda_dnn.cc:9261] Unable to register cuDNN factory: Attempting to register factory for plugin cuDNN when one has already been registered\n",
      "2024-05-08 02:55:42.663076: E external/local_xla/xla/stream_executor/cuda/cuda_fft.cc:607] Unable to register cuFFT factory: Attempting to register factory for plugin cuFFT when one has already been registered\n",
      "2024-05-08 02:55:42.785105: E external/local_xla/xla/stream_executor/cuda/cuda_blas.cc:1515] Unable to register cuBLAS factory: Attempting to register factory for plugin cuBLAS when one has already been registered\n"
     ]
    }
   ],
   "source": [
    "import torch\n",
    "import torch.nn as nn\n",
    "import torchvision.transforms as T\n",
    "from torch.utils.data import DataLoader, random_split\n",
    "\n",
    "import timm\n",
    "import timm.optim\n",
    "import timm.scheduler\n",
    "from timm.data import ImageDataset, create_dataset, create_loader\n",
    "from timm.data.transforms_factory import create_transform\n",
    "\n",
    "import matplotlib.pyplot as plt\n",
    "from sklearn.metrics import confusion_matrix\n",
    "from sklearn.metrics import ConfusionMatrixDisplay\n",
    "from PIL import Image\n",
    "\n",
    "import evaluate\n",
    "\n",
    "import numpy as np\n",
    "import pandas as pd\n",
    "from scipy import stats\n",
    "\n",
    "from tqdm.notebook import tqdm\n",
    "\n",
    "import glob\n",
    "\n",
    "from sklearn.model_selection import KFold\n",
    "\n",
    "from copy import copy\n",
    "\n",
    "import shutil\n",
    "import os\n",
    "import skimage.io as sk"
   ]
  },
  {
   "cell_type": "code",
   "execution_count": 4,
   "id": "07738886",
   "metadata": {
    "execution": {
     "iopub.execute_input": "2024-05-08T02:55:52.005168Z",
     "iopub.status.busy": "2024-05-08T02:55:52.004549Z",
     "iopub.status.idle": "2024-05-08T02:55:52.092788Z",
     "shell.execute_reply": "2024-05-08T02:55:52.091894Z"
    },
    "papermill": {
     "duration": 0.106085,
     "end_time": "2024-05-08T02:55:52.094788",
     "exception": false,
     "start_time": "2024-05-08T02:55:51.988703",
     "status": "completed"
    },
    "tags": []
   },
   "outputs": [
    {
     "data": {
      "text/plain": [
       "device(type='cuda')"
      ]
     },
     "execution_count": 4,
     "metadata": {},
     "output_type": "execute_result"
    }
   ],
   "source": [
    "device = torch.device(\"cuda\" if torch.cuda.is_available() else \"cpu\")\n",
    "device"
   ]
  },
  {
   "cell_type": "code",
   "execution_count": 5,
   "id": "ba7dbaef",
   "metadata": {
    "execution": {
     "iopub.execute_input": "2024-05-08T02:55:52.124316Z",
     "iopub.status.busy": "2024-05-08T02:55:52.123990Z",
     "iopub.status.idle": "2024-05-08T02:55:52.127768Z",
     "shell.execute_reply": "2024-05-08T02:55:52.126922Z"
    },
    "papermill": {
     "duration": 0.020722,
     "end_time": "2024-05-08T02:55:52.129801",
     "exception": false,
     "start_time": "2024-05-08T02:55:52.109079",
     "status": "completed"
    },
    "tags": []
   },
   "outputs": [],
   "source": [
    "# List all available models\n",
    "# timm.list_models(\"\")"
   ]
  },
  {
   "cell_type": "code",
   "execution_count": 6,
   "id": "242d92eb",
   "metadata": {
    "execution": {
     "iopub.execute_input": "2024-05-08T02:55:52.160937Z",
     "iopub.status.busy": "2024-05-08T02:55:52.160389Z",
     "iopub.status.idle": "2024-05-08T02:55:52.164614Z",
     "shell.execute_reply": "2024-05-08T02:55:52.163745Z"
    },
    "papermill": {
     "duration": 0.022708,
     "end_time": "2024-05-08T02:55:52.166592",
     "exception": false,
     "start_time": "2024-05-08T02:55:52.143884",
     "status": "completed"
    },
    "tags": []
   },
   "outputs": [],
   "source": [
    "# model_name = \"timm/vit_base_patch14_reg4_dinov2.lvd142m\"\n",
    "model_name = \"timm/maxvit_small_tf_512.in1k\"\n",
    "# model_name = 'timm/eva02_base_patch14_448.mim_in22k_ft_in22k_in1k'"
   ]
  },
  {
   "cell_type": "code",
   "execution_count": 7,
   "id": "53335088",
   "metadata": {
    "execution": {
     "iopub.execute_input": "2024-05-08T02:55:52.196983Z",
     "iopub.status.busy": "2024-05-08T02:55:52.196703Z",
     "iopub.status.idle": "2024-05-08T02:55:52.687444Z",
     "shell.execute_reply": "2024-05-08T02:55:52.686384Z"
    },
    "papermill": {
     "duration": 0.508688,
     "end_time": "2024-05-08T02:55:52.689706",
     "exception": false,
     "start_time": "2024-05-08T02:55:52.181018",
     "status": "completed"
    },
    "tags": []
   },
   "outputs": [
    {
     "data": {
      "application/vnd.jupyter.widget-view+json": {
       "model_id": "64f01c47da2748ad89a4a0809e4ebd26",
       "version_major": 2,
       "version_minor": 0
      },
      "text/plain": [
       "Downloading builder script:   0%|          | 0.00/6.77k [00:00<?, ?B/s]"
      ]
     },
     "metadata": {},
     "output_type": "display_data"
    }
   ],
   "source": [
    "import torch\n",
    "import torch.nn as nn\n",
    "from torch.utils.data import DataLoader, random_split\n",
    "import timm\n",
    "import numpy as np\n",
    "from tqdm import tqdm\n",
    "\n",
    "# Settings\n",
    "num_epochs = 8\n",
    "num_accumulate = 4\n",
    "\n",
    "# Criterion and Metric\n",
    "criterion = nn.CrossEntropyLoss()\n",
    "metric = evaluate.load(\"f1\")"
   ]
  },
  {
   "cell_type": "code",
   "execution_count": 8,
   "id": "37af3872",
   "metadata": {
    "execution": {
     "iopub.execute_input": "2024-05-08T02:55:52.724569Z",
     "iopub.status.busy": "2024-05-08T02:55:52.724227Z",
     "iopub.status.idle": "2024-05-08T02:55:52.728860Z",
     "shell.execute_reply": "2024-05-08T02:55:52.727878Z"
    },
    "papermill": {
     "duration": 0.024515,
     "end_time": "2024-05-08T02:55:52.731123",
     "exception": false,
     "start_time": "2024-05-08T02:55:52.706608",
     "status": "completed"
    },
    "tags": []
   },
   "outputs": [],
   "source": [
    "train_path = '/kaggle/input/ml-dataset/dataset/training'\n",
    "val_path = '/kaggle/input/ml-dataset/dataset/validation'\n",
    "# val_path = '/kaggle/input/ml-dataset/dataset/test'"
   ]
  },
  {
   "cell_type": "code",
   "execution_count": 9,
   "id": "d071bcd0",
   "metadata": {
    "execution": {
     "iopub.execute_input": "2024-05-08T02:55:52.765185Z",
     "iopub.status.busy": "2024-05-08T02:55:52.764836Z",
     "iopub.status.idle": "2024-05-08T02:56:08.353975Z",
     "shell.execute_reply": "2024-05-08T02:56:08.352896Z"
    },
    "papermill": {
     "duration": 15.608962,
     "end_time": "2024-05-08T02:56:08.356545",
     "exception": false,
     "start_time": "2024-05-08T02:55:52.747583",
     "status": "completed"
    },
    "tags": []
   },
   "outputs": [],
   "source": [
    "from torchvision import datasets, transforms\n",
    "from torch.utils.data import DataLoader, Subset\n",
    "\n",
    "train_batch_size = 8\n",
    "eval_batch_size = 8\n",
    "\n",
    "data_transforms = transforms.Compose([\n",
    "    transforms.Resize((512, 512), interpolation=T.InterpolationMode.BICUBIC),\n",
    "    transforms.ToTensor(),\n",
    "])\n",
    "\n",
    "train_dataset = datasets.ImageFolder(\n",
    "    root=train_path,\n",
    "    transform=data_transforms\n",
    ")\n",
    "# validation dataset\n",
    "valid_dataset = datasets.ImageFolder(\n",
    "    root=val_path,\n",
    "    transform=data_transforms\n",
    ")\n",
    "\n",
    "# # Function to create a subset consisting of approximately 10% of the dataset\n",
    "# def sample_subset(dataset, fraction=0.01):\n",
    "#     total_samples = len(dataset)\n",
    "#     sampled_indices = np.random.choice(total_samples, int(total_samples * fraction), replace=False)\n",
    "#     return Subset(dataset, sampled_indices)\n",
    "\n",
    "# # Create subsets\n",
    "# train_subset = sample_subset(train_dataset)\n",
    "# valid_subset = sample_subset(valid_dataset)\n",
    "\n",
    "\n",
    "train_dataloader = DataLoader(train_dataset, batch_size=train_batch_size, shuffle=True)\n",
    "val_dataloader = DataLoader(valid_dataset, batch_size=eval_batch_size, shuffle=False)\n",
    "# train_dataloader = DataLoader(train_dataset, batch_size=train_batch_size, shuffle=True)\n",
    "# val_dataloader = DataLoader(valid_dataset, batch_size=eval_batch_size, shuffle=False)"
   ]
  },
  {
   "cell_type": "markdown",
   "id": "a2a3f17a",
   "metadata": {
    "papermill": {
     "duration": 0.014616,
     "end_time": "2024-05-08T02:56:08.387460",
     "exception": false,
     "start_time": "2024-05-08T02:56:08.372844",
     "status": "completed"
    },
    "tags": []
   },
   "source": [
    "### EDA"
   ]
  },
  {
   "cell_type": "code",
   "execution_count": 10,
   "id": "c118e81e",
   "metadata": {
    "execution": {
     "iopub.execute_input": "2024-05-08T02:56:08.420067Z",
     "iopub.status.busy": "2024-05-08T02:56:08.419274Z",
     "iopub.status.idle": "2024-05-08T02:56:08.423615Z",
     "shell.execute_reply": "2024-05-08T02:56:08.422720Z"
    },
    "papermill": {
     "duration": 0.022779,
     "end_time": "2024-05-08T02:56:08.425712",
     "exception": false,
     "start_time": "2024-05-08T02:56:08.402933",
     "status": "completed"
    },
    "tags": []
   },
   "outputs": [],
   "source": [
    "# !pip install stegano"
   ]
  },
  {
   "cell_type": "code",
   "execution_count": 11,
   "id": "3031afbc",
   "metadata": {
    "execution": {
     "iopub.execute_input": "2024-05-08T02:56:08.459631Z",
     "iopub.status.busy": "2024-05-08T02:56:08.459323Z",
     "iopub.status.idle": "2024-05-08T02:56:08.463322Z",
     "shell.execute_reply": "2024-05-08T02:56:08.462369Z"
    },
    "papermill": {
     "duration": 0.023334,
     "end_time": "2024-05-08T02:56:08.465339",
     "exception": false,
     "start_time": "2024-05-08T02:56:08.442005",
     "status": "completed"
    },
    "tags": []
   },
   "outputs": [],
   "source": [
    "# !pip install jpegio\n",
    "# import jpegio as jio"
   ]
  },
  {
   "cell_type": "code",
   "execution_count": 12,
   "id": "2c85b178",
   "metadata": {
    "execution": {
     "iopub.execute_input": "2024-05-08T02:56:08.499690Z",
     "iopub.status.busy": "2024-05-08T02:56:08.498887Z",
     "iopub.status.idle": "2024-05-08T02:56:08.503147Z",
     "shell.execute_reply": "2024-05-08T02:56:08.502213Z"
    },
    "papermill": {
     "duration": 0.023755,
     "end_time": "2024-05-08T02:56:08.505391",
     "exception": false,
     "start_time": "2024-05-08T02:56:08.481636",
     "status": "completed"
    },
    "tags": []
   },
   "outputs": [],
   "source": [
    "# BASE_PATH = \"/kaggle/input/ml-dataset/dataset/training\"\n",
    "# train_imageids = pd.Series(os.listdir(BASE_PATH + '/cover')).sort_values(ascending=True).reset_index(drop=True)"
   ]
  },
  {
   "cell_type": "code",
   "execution_count": 13,
   "id": "e11d2c76",
   "metadata": {
    "execution": {
     "iopub.execute_input": "2024-05-08T02:56:08.540755Z",
     "iopub.status.busy": "2024-05-08T02:56:08.540428Z",
     "iopub.status.idle": "2024-05-08T02:56:08.544889Z",
     "shell.execute_reply": "2024-05-08T02:56:08.543929Z"
    },
    "papermill": {
     "duration": 0.025333,
     "end_time": "2024-05-08T02:56:08.547272",
     "exception": false,
     "start_time": "2024-05-08T02:56:08.521939",
     "status": "completed"
    },
    "tags": []
   },
   "outputs": [],
   "source": [
    "# BASE_PATH = \"/kaggle/input/ml-dataset/dataset/training\"\n",
    "# cover_images_path = pd.Series(BASE_PATH + '/cover/' + train_imageids ).sort_values(ascending=True)\n",
    "# JMIPOD_images_path = pd.Series(BASE_PATH + '/jmipod/'+train_imageids).sort_values(ascending=True)\n",
    "# JUNIWARD_images_path = pd.Series(BASE_PATH + '/juniward/'+train_imageids).sort_values(ascending=True)\n",
    "# UERD_images_path = pd.Series(BASE_PATH + '/uerd/'+train_imageids).sort_values(ascending=True)"
   ]
  },
  {
   "cell_type": "code",
   "execution_count": 14,
   "id": "a0784113",
   "metadata": {
    "execution": {
     "iopub.execute_input": "2024-05-08T02:56:08.580818Z",
     "iopub.status.busy": "2024-05-08T02:56:08.580483Z",
     "iopub.status.idle": "2024-05-08T02:56:08.585205Z",
     "shell.execute_reply": "2024-05-08T02:56:08.584231Z"
    },
    "papermill": {
     "duration": 0.023713,
     "end_time": "2024-05-08T02:56:08.587356",
     "exception": false,
     "start_time": "2024-05-08T02:56:08.563643",
     "status": "completed"
    },
    "tags": []
   },
   "outputs": [],
   "source": [
    "# fig,ax = plt.subplots(4,4,figsize=(20,16))\n",
    "# plt.tight_layout()\n",
    "\n",
    "\n",
    "# im1 = Image.open(cover_images_path[0])\n",
    "# im2 = Image.open(JUNIWARD_images_path[0])\n",
    "# im3 = Image.open(JMIPOD_images_path[0])\n",
    "# im4 = Image.open(UERD_images_path[0])\n",
    "\n",
    "# for i,image in enumerate([im1,im2,im3,im4]):\n",
    "#     ycbcr = image.convert('YCbCr')\n",
    "#     (y, cb, cr) = ycbcr.split()\n",
    "\n",
    "#     ax[i,0].imshow(image)\n",
    "#     ax[i,0].set_title('Image')\n",
    "#     ax[i,1].imshow(y)\n",
    "#     ax[i,1].set_title('Luminance')\n",
    "#     ax[i,2].imshow(cb)\n",
    "#     ax[i,2].set_title('Cb:Chroma Blue')\n",
    "#     ax[i,3].imshow(cr)\n",
    "#     ax[i,3].set_title('Cr:Chroma Red')"
   ]
  },
  {
   "cell_type": "code",
   "execution_count": 15,
   "id": "11b9ef5c",
   "metadata": {
    "execution": {
     "iopub.execute_input": "2024-05-08T02:56:08.620876Z",
     "iopub.status.busy": "2024-05-08T02:56:08.620113Z",
     "iopub.status.idle": "2024-05-08T02:56:08.624329Z",
     "shell.execute_reply": "2024-05-08T02:56:08.623496Z"
    },
    "papermill": {
     "duration": 0.023157,
     "end_time": "2024-05-08T02:56:08.626324",
     "exception": false,
     "start_time": "2024-05-08T02:56:08.603167",
     "status": "completed"
    },
    "tags": []
   },
   "outputs": [],
   "source": [
    "# coverDCT = np.zeros([512,512,3])\n",
    "# stegoDCT = np.zeros([512,512,3])\n",
    "# jpeg = jio.read(cover_images_path[0])\n",
    "# stego_juni = jio.read(JUNIWARD_images_path[0])"
   ]
  },
  {
   "cell_type": "code",
   "execution_count": 16,
   "id": "15bfe889",
   "metadata": {
    "execution": {
     "iopub.execute_input": "2024-05-08T02:56:08.659691Z",
     "iopub.status.busy": "2024-05-08T02:56:08.659001Z",
     "iopub.status.idle": "2024-05-08T02:56:08.663512Z",
     "shell.execute_reply": "2024-05-08T02:56:08.662623Z"
    },
    "papermill": {
     "duration": 0.023015,
     "end_time": "2024-05-08T02:56:08.665472",
     "exception": false,
     "start_time": "2024-05-08T02:56:08.642457",
     "status": "completed"
    },
    "tags": []
   },
   "outputs": [],
   "source": [
    "# coverDCT[:,:,0] = jpeg.coef_arrays[0] ; coverDCT[:,:,1] = jpeg.coef_arrays[1] ; coverDCT[:,:,2] = jpeg.coef_arrays[2]\n",
    "# stegoDCT[:,:,0] = stego_juni.coef_arrays[0] ; stegoDCT[:,:,1] = stego_juni.coef_arrays[1] ; stegoDCT[:,:,2] = stego_juni.coef_arrays[2]\n",
    "\n",
    "# DCT_diff = coverDCT - stegoDCT\n",
    "# # So since they are not the same Images the DCT_diff would not be zero\n",
    "# print(len(DCT_diff[np.where(DCT_diff!=0)]))\n",
    "# print(np.unique(DCT_diff))\n",
    "# plt.figure(figsize=(16,10))\n",
    "# plt.imshow( abs(DCT_diff) )\n",
    "# plt.show()"
   ]
  },
  {
   "cell_type": "code",
   "execution_count": 17,
   "id": "baa63601",
   "metadata": {
    "execution": {
     "iopub.execute_input": "2024-05-08T02:56:08.698342Z",
     "iopub.status.busy": "2024-05-08T02:56:08.698040Z",
     "iopub.status.idle": "2024-05-08T02:56:08.701993Z",
     "shell.execute_reply": "2024-05-08T02:56:08.701274Z"
    },
    "papermill": {
     "duration": 0.022483,
     "end_time": "2024-05-08T02:56:08.703932",
     "exception": false,
     "start_time": "2024-05-08T02:56:08.681449",
     "status": "completed"
    },
    "tags": []
   },
   "outputs": [],
   "source": [
    "# coverPixels = np.array(Image.open(cover_images_path[0])).astype('float')\n",
    "# stegoPixels = np.array(Image.open(JUNIWARD_images_path[0])).astype('float')\n",
    "\n",
    "# pixelsDiff = coverPixels - stegoPixels\n",
    "\n",
    "# # So since they are not the same Images the pixels_diff would not be zero\n",
    "# print(len(pixelsDiff[np.where(pixelsDiff!=0)]))\n",
    "# print(np.unique(pixelsDiff))\n",
    "# plt.figure(figsize=(16,10))\n",
    "# plt.imshow( abs(pixelsDiff) )\n",
    "# plt.show()"
   ]
  },
  {
   "cell_type": "code",
   "execution_count": 18,
   "id": "197a8682",
   "metadata": {
    "execution": {
     "iopub.execute_input": "2024-05-08T02:56:08.735453Z",
     "iopub.status.busy": "2024-05-08T02:56:08.735180Z",
     "iopub.status.idle": "2024-05-08T02:56:08.738743Z",
     "shell.execute_reply": "2024-05-08T02:56:08.737948Z"
    },
    "papermill": {
     "duration": 0.021463,
     "end_time": "2024-05-08T02:56:08.740622",
     "exception": false,
     "start_time": "2024-05-08T02:56:08.719159",
     "status": "completed"
    },
    "tags": []
   },
   "outputs": [],
   "source": [
    "# fig,ax = plt.subplots(1,2,figsize=(16,12))\n",
    "# ax[0].imshow(abs(DCT_diff))\n",
    "# ax[1].imshow(abs(pixelsDiff))"
   ]
  },
  {
   "cell_type": "code",
   "execution_count": 19,
   "id": "bb2844fa",
   "metadata": {
    "execution": {
     "iopub.execute_input": "2024-05-08T02:56:08.772297Z",
     "iopub.status.busy": "2024-05-08T02:56:08.772003Z",
     "iopub.status.idle": "2024-05-08T02:56:08.775738Z",
     "shell.execute_reply": "2024-05-08T02:56:08.774864Z"
    },
    "papermill": {
     "duration": 0.021824,
     "end_time": "2024-05-08T02:56:08.777705",
     "exception": false,
     "start_time": "2024-05-08T02:56:08.755881",
     "status": "completed"
    },
    "tags": []
   },
   "outputs": [],
   "source": [
    "# # Check the first few batches\n",
    "# for inputs, targets in train_dataloader:\n",
    "#     print(\"Sample inputs size:\", inputs.size())\n",
    "#     print(\"Sample targets:\", targets)\n",
    "#     break"
   ]
  },
  {
   "cell_type": "code",
   "execution_count": 20,
   "id": "ab4bcfb4",
   "metadata": {
    "execution": {
     "iopub.execute_input": "2024-05-08T02:56:08.810817Z",
     "iopub.status.busy": "2024-05-08T02:56:08.809995Z",
     "iopub.status.idle": "2024-05-08T02:56:09.135663Z",
     "shell.execute_reply": "2024-05-08T02:56:09.134849Z"
    },
    "papermill": {
     "duration": 0.344151,
     "end_time": "2024-05-08T02:56:09.137643",
     "exception": false,
     "start_time": "2024-05-08T02:56:08.793492",
     "status": "completed"
    },
    "tags": []
   },
   "outputs": [
    {
     "name": "stdout",
     "output_type": "stream",
     "text": [
      "0\n"
     ]
    },
    {
     "data": {
      "image/png": "[encoded data removed]",
      "text/plain": [
       "<Figure size 640x480 with 1 Axes>"
      ]
     },
     "metadata": {},
     "output_type": "display_data"
    }
   ],
   "source": [
    "import matplotlib.pyplot as plt\n",
    "import torchvision.transforms as T\n",
    "\n",
    "def show_image(tensor):\n",
    "    to_image = T.ToPILImage()\n",
    "    img = to_image(tensor)\n",
    "    plt.imshow(img)\n",
    "    plt.axis('off')\n",
    "    plt.show()\n",
    "\n",
    "img_tensor, label = train_dataset[0]\n",
    "print(label)\n",
    "show_image(img_tensor)"
   ]
  },
  {
   "cell_type": "markdown",
   "id": "9741ea12",
   "metadata": {
    "papermill": {
     "duration": 0.017707,
     "end_time": "2024-05-08T02:56:09.173765",
     "exception": false,
     "start_time": "2024-05-08T02:56:09.156058",
     "status": "completed"
    },
    "tags": []
   },
   "source": [
    "## Training"
   ]
  },
  {
   "cell_type": "code",
   "execution_count": 21,
   "id": "3dcd7e37",
   "metadata": {
    "execution": {
     "iopub.execute_input": "2024-05-08T02:56:09.211448Z",
     "iopub.status.busy": "2024-05-08T02:56:09.211063Z",
     "iopub.status.idle": "2024-05-08T02:56:12.994438Z",
     "shell.execute_reply": "2024-05-08T02:56:12.993609Z"
    },
    "papermill": {
     "duration": 3.804968,
     "end_time": "2024-05-08T02:56:12.996710",
     "exception": false,
     "start_time": "2024-05-08T02:56:09.191742",
     "status": "completed"
    },
    "tags": []
   },
   "outputs": [
    {
     "data": {
      "application/vnd.jupyter.widget-view+json": {
       "model_id": "badf10f14fcc445fa54758f87d90a17a",
       "version_major": 2,
       "version_minor": 0
      },
      "text/plain": [
       "model.safetensors:   0%|          | 0.00/277M [00:00<?, ?B/s]"
      ]
     },
     "metadata": {},
     "output_type": "display_data"
    },
    {
     "name": "stdout",
     "output_type": "stream",
     "text": [
      "Using 2 GPUs!\n"
     ]
    }
   ],
   "source": [
    "# Model, Optimizer, and Scheduler\n",
    "model = timm.create_model(model_name, pretrained=True, num_classes=4)\n",
    "\n",
    "if torch.cuda.device_count() > 1:\n",
    "    print(f\"Using {torch.cuda.device_count()} GPUs!\")\n",
    "    model = torch.nn.DataParallel(model)\n",
    "model = model.to(device)"
   ]
  },
  {
   "cell_type": "code",
   "execution_count": 22,
   "id": "f46ff116",
   "metadata": {
    "execution": {
     "iopub.execute_input": "2024-05-08T02:56:13.035699Z",
     "iopub.status.busy": "2024-05-08T02:56:13.034970Z",
     "iopub.status.idle": "2024-05-08T02:56:13.044066Z",
     "shell.execute_reply": "2024-05-08T02:56:13.043330Z"
    },
    "papermill": {
     "duration": 0.030514,
     "end_time": "2024-05-08T02:56:13.045978",
     "exception": false,
     "start_time": "2024-05-08T02:56:13.015464",
     "status": "completed"
    },
    "tags": []
   },
   "outputs": [],
   "source": [
    "from sklearn import metrics\n",
    "import numpy as np\n",
    "\n",
    "def alaska_weighted_auc(y_true, y_valid):\n",
    "    tpr_thresholds = [0.0, 0.4, 1.0]\n",
    "    weights =        [       2,   1]\n",
    "    \n",
    "    fpr, tpr, thresholds = metrics.roc_curve(y_true, y_valid, pos_label=1)\n",
    "    \n",
    "    # size of subsets\n",
    "    areas = np.array(tpr_thresholds[1:]) - np.array(tpr_thresholds[:-1])\n",
    "    \n",
    "    # The total area is normalized by the sum of weights such that the final weighted AUC is between 0 and 1.\n",
    "    normalization = np.dot(areas, weights)\n",
    "    \n",
    "    competition_metric = 0\n",
    "    for idx, weight in enumerate(weights):\n",
    "        y_min = tpr_thresholds[idx]\n",
    "        y_max = tpr_thresholds[idx + 1]\n",
    "        mask = (y_min < tpr) & (tpr < y_max)\n",
    "\n",
    "        x_padding = np.linspace(fpr[mask][-1], 1, 100)\n",
    "\n",
    "        x = np.concatenate([fpr[mask], x_padding])\n",
    "        y = np.concatenate([tpr[mask], [y_max] * len(x_padding)])\n",
    "        y = y - y_min # normalize such that curve starts at y=0\n",
    "        score = metrics.auc(x, y)\n",
    "        submetric = score * weight\n",
    "        best_subscore = (y_max - y_min) * weight\n",
    "        competition_metric += submetric\n",
    "        \n",
    "    return competition_metric / normalization"
   ]
  },
  {
   "cell_type": "code",
   "execution_count": 23,
   "id": "a6b2b589",
   "metadata": {
    "execution": {
     "iopub.execute_input": "2024-05-08T02:56:13.084151Z",
     "iopub.status.busy": "2024-05-08T02:56:13.083824Z",
     "iopub.status.idle": "2024-05-08T12:35:47.447173Z",
     "shell.execute_reply": "2024-05-08T12:35:47.446257Z"
    },
    "papermill": {
     "duration": 34774.385313,
     "end_time": "2024-05-08T12:35:47.449489",
     "exception": false,
     "start_time": "2024-05-08T02:56:13.064176",
     "status": "completed"
    },
    "tags": []
   },
   "outputs": [
    {
     "name": "stderr",
     "output_type": "stream",
     "text": [
      "100%|██████████| 3500/3500 [1:07:21<00:00,  1.15s/it]\n",
      "100%|██████████| 1000/1000 [07:55<00:00,  2.10it/s]\n"
     ]
    },
    {
     "name": "stdout",
     "output_type": "stream",
     "text": [
      "Epoch 1: Train Loss 1.2898082622289657, Val Loss 1.1430669729411602, Train F1 0.339502175582076, Val F1 0.40029427944457197, AUC weight score 0.40882586309523805\n"
     ]
    },
    {
     "name": "stderr",
     "output_type": "stream",
     "text": [
      "100%|██████████| 3500/3500 [1:05:00<00:00,  1.11s/it]\n",
      "100%|██████████| 1000/1000 [07:11<00:00,  2.32it/s]\n"
     ]
    },
    {
     "name": "stdout",
     "output_type": "stream",
     "text": [
      "Epoch 2: Train Loss 1.114636537373066, Val Loss 1.1005733651784249, Train F1 0.4568382832131254, Val F1 0.4293906711041089, AUC weight score 0.3775954761904761\n"
     ]
    },
    {
     "name": "stderr",
     "output_type": "stream",
     "text": [
      "100%|██████████| 3500/3500 [1:04:51<00:00,  1.11s/it]\n",
      "100%|██████████| 1000/1000 [07:16<00:00,  2.29it/s]\n"
     ]
    },
    {
     "name": "stdout",
     "output_type": "stream",
     "text": [
      "Epoch 3: Train Loss 1.0428065244810922, Val Loss 1.0404181567132473, Train F1 0.48530214070323763, Val F1 0.42248407606731453, AUC weight score 0.3759281845238097\n"
     ]
    },
    {
     "name": "stderr",
     "output_type": "stream",
     "text": [
      "100%|██████████| 3500/3500 [1:04:59<00:00,  1.11s/it]\n",
      "100%|██████████| 1000/1000 [07:07<00:00,  2.34it/s]\n"
     ]
    },
    {
     "name": "stdout",
     "output_type": "stream",
     "text": [
      "Epoch 4: Train Loss 0.990329607129097, Val Loss 0.9790930921686813, Train F1 0.5029264641276897, Val F1 0.4981081873198235, AUC weight score 0.345713125\n"
     ]
    },
    {
     "name": "stderr",
     "output_type": "stream",
     "text": [
      "100%|██████████| 3500/3500 [1:05:02<00:00,  1.11s/it]\n",
      "100%|██████████| 1000/1000 [07:04<00:00,  2.35it/s]\n"
     ]
    },
    {
     "name": "stdout",
     "output_type": "stream",
     "text": [
      "Epoch 5: Train Loss 0.9451252997517586, Val Loss 0.9526341941627324, Train F1 0.5174569944188452, Val F1 0.45315437139253634, AUC weight score 0.33403053571428576\n"
     ]
    },
    {
     "name": "stderr",
     "output_type": "stream",
     "text": [
      "100%|██████████| 3500/3500 [1:04:54<00:00,  1.11s/it]\n",
      "100%|██████████| 1000/1000 [06:59<00:00,  2.39it/s]\n"
     ]
    },
    {
     "name": "stdout",
     "output_type": "stream",
     "text": [
      "Epoch 6: Train Loss 0.8936807846852711, Val Loss 0.9469711349254357, Train F1 0.5340402121336327, Val F1 0.46040120870980483, AUC weight score 0.32768068452380955\n"
     ]
    },
    {
     "name": "stderr",
     "output_type": "stream",
     "text": [
      "100%|██████████| 3500/3500 [1:04:41<00:00,  1.11s/it]\n",
      "100%|██████████| 1000/1000 [07:06<00:00,  2.35it/s]\n"
     ]
    },
    {
     "name": "stdout",
     "output_type": "stream",
     "text": [
      "Epoch 7: Train Loss 0.8510792941536223, Val Loss 0.9271524770533579, Train F1 0.5562074504273147, Val F1 0.4918998072271964, AUC weight score 0.3243292261904763\n"
     ]
    },
    {
     "name": "stderr",
     "output_type": "stream",
     "text": [
      "100%|██████████| 3500/3500 [1:04:47<00:00,  1.11s/it]\n",
      "100%|██████████| 1000/1000 [07:06<00:00,  2.35it/s]\n"
     ]
    },
    {
     "name": "stdout",
     "output_type": "stream",
     "text": [
      "Epoch 8: Train Loss 0.8175342323865209, Val Loss 0.93958055597161, Train F1 0.5644258039763468, Val F1 0.5168395938681379, AUC weight score 0.32458169642857143\n"
     ]
    }
   ],
   "source": [
    "optimizer = timm.optim.create_optimizer_v2(model, opt=\"AdamW\", lr=1e-3)\n",
    "optimizer = timm.optim.Lookahead(optimizer, alpha=0.5, k=6)\n",
    "\n",
    "scheduler = timm.scheduler.create_scheduler_v2(optimizer, num_epochs=num_epochs)[0]\n",
    "\n",
    "\n",
    "for epoch in range(num_epochs):\n",
    "    model.train()\n",
    "    \n",
    "    train_loss_epoch = []\n",
    "    val_loss_epoch = []\n",
    "    \n",
    "    train_preds = []\n",
    "    train_targets = []\n",
    "    \n",
    "    val_preds = []\n",
    "    val_targets = []\n",
    "    \n",
    "    num_updates = epoch * len(train_dataloader)\n",
    "    \n",
    "    best_auc = None \n",
    "    \n",
    "    y_pred = []\n",
    "\n",
    "    # Training Loop\n",
    "    for batch_idx, (inputs, targets) in enumerate(tqdm(train_dataloader)):\n",
    "        inputs, targets = inputs.to(device), targets.to(device)\n",
    "        outputs = model(inputs.to(device))\n",
    "        loss = criterion(outputs, targets.to(device))\n",
    "        \n",
    "        loss.backward()\n",
    "\n",
    "        if ((batch_idx + 1) % num_accumulate == 0) or (batch_idx + 1 == len(train_dataloader)):\n",
    "            optimizer.step()\n",
    "            scheduler.step_update(num_updates=num_updates)\n",
    "            optimizer.zero_grad()\n",
    "\n",
    "        train_loss_epoch.append(loss.item())\n",
    "        train_preds.extend(outputs.argmax(dim=-1).detach().cpu().tolist())\n",
    "        train_targets.extend(targets.tolist())\n",
    "        \n",
    "    optimizer.sync_lookahead()\n",
    "    scheduler.step(epoch + 1)\n",
    "\n",
    "    # Validation Loop\n",
    "    model.eval()\n",
    "    with torch.no_grad():\n",
    "        for inputs, targets in tqdm(val_dataloader):\n",
    "            inputs, targets = inputs.to(device), targets.to(device)\n",
    "            outputs = model(inputs.to(device))\n",
    "            loss = criterion(outputs, targets.to(device))\n",
    "            val_loss_epoch.append(loss.item())\n",
    "            \n",
    "            val_preds.extend(outputs.argmax(dim=-1).detach().cpu().tolist())\n",
    "            val_targets.extend(targets.tolist())\n",
    "            \n",
    "            \n",
    "            y_pred.extend(1 - torch.nn.functional.softmax(outputs, dim=1).cpu().numpy()[:, 0])\n",
    "            \n",
    "\n",
    "    # Calculate Metrics\n",
    "    metric_train = metric.compute(predictions=train_preds, references=train_targets, average=\"macro\")[\"f1\"]\n",
    "    metric_val = metric.compute(predictions=val_preds, references=val_targets, average=\"macro\")[\"f1\"]\n",
    "    \n",
    "    \n",
    "    auc_score = alaska_weighted_auc(val_targets, y_pred)\n",
    "    \n",
    "    print(f\"Epoch {epoch+1}: Train Loss {np.mean(train_loss_epoch)}, Val Loss {np.mean(val_loss_epoch)}, Train F1 {metric_train}, Val F1 {metric_val}, AUC weight score {auc_score}\")\n",
    "    \n",
    "    # Best Model Check\n",
    "    if best_auc == None:\n",
    "        best_auc = auc_score\n",
    "        if torch.cuda.current_device() == 0:\n",
    "            torch.save(model, f\"best_model_{model_name[5::]}_{epoch+1}_epoch.pt\")\n",
    "        continue\n",
    "        \n",
    "    if auc_score > best_auc:\n",
    "        best_auc = auc_score\n",
    "        if torch.cuda.current_device() == 0:\n",
    "            torch.save(model, f\"best_model_{model_name[5::]}_{epoch+1}_epoch.pt\")"
   ]
  },
  {
   "cell_type": "markdown",
   "id": "05723ae0",
   "metadata": {
    "papermill": {
     "duration": 3.031507,
     "end_time": "2024-05-08T12:35:53.572056",
     "exception": false,
     "start_time": "2024-05-08T12:35:50.540549",
     "status": "completed"
    },
    "tags": []
   },
   "source": [
    "## Evaluation"
   ]
  },
  {
   "cell_type": "code",
   "execution_count": 24,
   "id": "3d77b889",
   "metadata": {
    "execution": {
     "iopub.execute_input": "2024-05-08T12:35:59.455150Z",
     "iopub.status.busy": "2024-05-08T12:35:59.454711Z",
     "iopub.status.idle": "2024-05-08T12:39:54.885263Z",
     "shell.execute_reply": "2024-05-08T12:39:54.884136Z"
    },
    "papermill": {
     "duration": 238.461061,
     "end_time": "2024-05-08T12:39:54.887384",
     "exception": false,
     "start_time": "2024-05-08T12:35:56.426323",
     "status": "completed"
    },
    "tags": []
   },
   "outputs": [
    {
     "name": "stderr",
     "output_type": "stream",
     "text": [
      "Evaluating: 100%|██████████| 500/500 [03:53<00:00,  2.14it/s]\n"
     ]
    },
    {
     "data": {
      "image/png": "[encoded data removed]",
      "text/plain": [
       "<Figure size 640x480 with 2 Axes>"
      ]
     },
     "metadata": {},
     "output_type": "display_data"
    },
    {
     "name": "stdout",
     "output_type": "stream",
     "text": [
      "              precision    recall  f1-score   support\n",
      "\n",
      "       cover       0.38      0.61      0.47      1000\n",
      "      jmipod       0.34      0.16      0.22      1000\n",
      "    juniward       0.70      0.60      0.65      1000\n",
      "        uerd       0.70      0.72      0.71      1000\n",
      "\n",
      "    accuracy                           0.53      4000\n",
      "   macro avg       0.53      0.53      0.51      4000\n",
      "weighted avg       0.53      0.53      0.51      4000\n",
      "\n"
     ]
    }
   ],
   "source": [
    "import torch\n",
    "from torch.utils.data import DataLoader\n",
    "from torchvision import datasets, transforms\n",
    "import matplotlib.pyplot as plt\n",
    "from sklearn.metrics import classification_report, confusion_matrix, ConfusionMatrixDisplay\n",
    "from tqdm import tqdm\n",
    "\n",
    "# Path to the validation dataset and model\n",
    "test_path = '/kaggle/input/ml-dataset/dataset/test'\n",
    "\n",
    "model_path = \"/kaggle/input/image_stega/pytorch/maxvit_small_tf_512.in1k_5_epoch/1/best_model_maxvit_small_tf_512.in1k_5_epoch.pt\"\n",
    "\n",
    "# Device configuration (GPU if available, else CPU)\n",
    "device = torch.device('cuda' if torch.cuda.is_available() else 'cpu')\n",
    "\n",
    "# Data transformations used for the validation data\n",
    "data_transforms = transforms.Compose([\n",
    "    transforms.Resize((512, 512), interpolation=transforms.InterpolationMode.BICUBIC),\n",
    "    transforms.ToTensor(),\n",
    "])\n",
    "\n",
    "# Load the dataset using the specified transformations\n",
    "test_dataset = datasets.ImageFolder(\n",
    "    root=test_path,\n",
    "    transform=data_transforms\n",
    ")\n",
    "\n",
    "# Create a data loader for the validation dataset\n",
    "test_batch_size = 8\n",
    "test_dataloader = DataLoader(test_dataset, batch_size=test_batch_size, shuffle=False)\n",
    "\n",
    "# Load the trained model\n",
    "# loaded_model = torch.load(model_path)\n",
    "loaded_model = model\n",
    "loaded_model.to(device)\n",
    "loaded_model.eval()\n",
    "\n",
    "# Initialize lists for predictions and references (actual labels)\n",
    "predictions = []\n",
    "references = []\n",
    "y_pred = []\n",
    "\n",
    "# Disable gradient calculation for prediction\n",
    "with torch.no_grad():\n",
    "    for batch in tqdm(test_dataloader, desc=\"Evaluating\"):\n",
    "        # Get inputs and targets from the batch\n",
    "        inputs, targets = batch\n",
    "        inputs = inputs.to(device)\n",
    "        \n",
    "        # Run the inputs through the model to get predictions\n",
    "        outputs = loaded_model(inputs)\n",
    "        \n",
    "        # Determine the predicted class for each sample\n",
    "        preds = outputs.argmax(dim=-1)\n",
    "        \n",
    "        # Append predictions and actual labels to the respective lists\n",
    "        predictions.extend(preds.cpu().tolist())\n",
    "        references.extend(targets.tolist())\n",
    "        y_pred.extend(1 - torch.nn.functional.softmax(outputs, dim=1).cpu().numpy()[:, 0])\n",
    "\n",
    "# Compute the confusion matrix using the actual and predicted labels\n",
    "cm = confusion_matrix(references, predictions)\n",
    "disp = ConfusionMatrixDisplay(confusion_matrix=cm, display_labels=test_dataset.classes)\n",
    "\n",
    "# Plot and display the confusion matrix\n",
    "disp.plot(cmap=plt.cm.Blues)\n",
    "plt.title(\"Confusion Matrix\")\n",
    "plt.show()\n",
    "\n",
    "# Generate a classification report for accuracy, precision, recall, and F1 score\n",
    "report = classification_report(references, predictions, target_names=test_dataset.classes)\n",
    "print(report)\n"
   ]
  },
  {
   "cell_type": "code",
   "execution_count": 25,
   "id": "f4714aef",
   "metadata": {
    "execution": {
     "iopub.execute_input": "2024-05-08T12:40:00.857396Z",
     "iopub.status.busy": "2024-05-08T12:40:00.856514Z",
     "iopub.status.idle": "2024-05-08T12:40:01.118867Z",
     "shell.execute_reply": "2024-05-08T12:40:01.117972Z"
    },
    "papermill": {
     "duration": 3.169917,
     "end_time": "2024-05-08T12:40:01.120831",
     "exception": false,
     "start_time": "2024-05-08T12:39:57.950914",
     "status": "completed"
    },
    "tags": []
   },
   "outputs": [
    {
     "data": {
      "image/png": "[encoded data removed]",
      "text/plain": [
       "<Figure size 600x600 with 1 Axes>"
      ]
     },
     "metadata": {},
     "output_type": "display_data"
    },
    {
     "name": "stdout",
     "output_type": "stream",
     "text": [
      "Weighted AUC:  0.33244785714285713\n"
     ]
    }
   ],
   "source": [
    "import matplotlib.pyplot as plt\n",
    "\n",
    "fpr, tpr, thresholds = metrics.roc_curve(references, y_pred, pos_label=1)\n",
    "\n",
    "weighted_auc = alaska_weighted_auc(references, y_pred)\n",
    "\n",
    "plt.figure(figsize=(6, 6))\n",
    "plt.plot(fpr, tpr)\n",
    "plt.xlabel('FPR')\n",
    "plt.ylabel('TPR')\n",
    "plt.title(f'ROC Curve (WeightedAUC={round(weighted_auc, 4)})')\n",
    "plt.xlim(0, 1)\n",
    "plt.ylim(0, 1)\n",
    "plt.plot([0, 1], [0, 1], alpha=0.1)\n",
    "plt.show()\n",
    "\n",
    "print(\"Weighted AUC: \",weighted_auc)"
   ]
  },
  {
   "cell_type": "markdown",
   "id": "faf87c16",
   "metadata": {
    "papermill": {
     "duration": 2.894845,
     "end_time": "2024-05-08T12:40:07.119226",
     "exception": false,
     "start_time": "2024-05-08T12:40:04.224381",
     "status": "completed"
    },
    "tags": []
   },
   "source": [
    "## Submission"
   ]
  },
  {
   "cell_type": "code",
   "execution_count": 26,
   "id": "c7c926b4",
   "metadata": {
    "execution": {
     "iopub.execute_input": "2024-05-08T12:40:13.121529Z",
     "iopub.status.busy": "2024-05-08T12:40:13.120803Z",
     "iopub.status.idle": "2024-05-08T12:40:13.125222Z",
     "shell.execute_reply": "2024-05-08T12:40:13.124293Z"
    },
    "papermill": {
     "duration": 2.933753,
     "end_time": "2024-05-08T12:40:13.127059",
     "exception": false,
     "start_time": "2024-05-08T12:40:10.193306",
     "status": "completed"
    },
    "tags": []
   },
   "outputs": [],
   "source": [
    "# from torchvision import datasets, transforms\n",
    "\n",
    "# test_files = glob.glob(\"/kaggle/input/alaska2-image-steganalysis/Test/*.jpg\")\n",
    "\n",
    "# data_transforms = transforms.Compose([\n",
    "#     transforms.Resize((512, 512)),\n",
    "#     transforms.ToTensor(),\n",
    "# ])\n",
    "\n",
    "# test_dataloader = ImageDataset(\"/kaggle/input/alaska2-image-steganalysis/Test\", transform=data_transforms)"
   ]
  },
  {
   "cell_type": "code",
   "execution_count": 27,
   "id": "20f7afd2",
   "metadata": {
    "execution": {
     "iopub.execute_input": "2024-05-08T12:40:19.285408Z",
     "iopub.status.busy": "2024-05-08T12:40:19.285015Z",
     "iopub.status.idle": "2024-05-08T12:40:19.289211Z",
     "shell.execute_reply": "2024-05-08T12:40:19.288273Z"
    },
    "papermill": {
     "duration": 3.064883,
     "end_time": "2024-05-08T12:40:19.291149",
     "exception": false,
     "start_time": "2024-05-08T12:40:16.226266",
     "status": "completed"
    },
    "tags": []
   },
   "outputs": [],
   "source": [
    "# device = torch.device(\"cuda\" if torch.cuda.is_available() else \"cpu\")\n",
    "# device"
   ]
  },
  {
   "cell_type": "code",
   "execution_count": 28,
   "id": "36368242",
   "metadata": {
    "execution": {
     "iopub.execute_input": "2024-05-08T12:40:25.285383Z",
     "iopub.status.busy": "2024-05-08T12:40:25.285004Z",
     "iopub.status.idle": "2024-05-08T12:40:25.289810Z",
     "shell.execute_reply": "2024-05-08T12:40:25.288888Z"
    },
    "papermill": {
     "duration": 3.058676,
     "end_time": "2024-05-08T12:40:25.291758",
     "exception": false,
     "start_time": "2024-05-08T12:40:22.233082",
     "status": "completed"
    },
    "tags": []
   },
   "outputs": [],
   "source": [
    "# answers_final = dict()\n",
    "\n",
    "# loaded_model = torch.load(f\"/kaggle/input/image_stega/pytorch/maxvit_small_tf_512.in1k_5_epoch/1/best_model_maxvit_small_tf_512.in1k_5_epoch.pt\")\n",
    "\n",
    "# model = loaded_model\n",
    "\n",
    "# model.eval()\n",
    "\n",
    "# with torch.no_grad():\n",
    "#     for f in tqdm(test_files):\n",
    "#         key = f.split(\"/\")[-1].split(\".\")[0]\n",
    "#         img = Image.open(f).convert(\"RGB\")\n",
    "        \n",
    "#         transformed = data_transforms(img).unsqueeze(0).to(device)\n",
    "#         y_pred = model(transformed)\n",
    "#         y_pred = 1 - torch.nn.functional.softmax(y_pred, dim=1).cpu().numpy()[:, 0]\n",
    "\n",
    "#         answers_final[key] = y_pred.tolist() "
   ]
  },
  {
   "cell_type": "code",
   "execution_count": 29,
   "id": "c5a72762",
   "metadata": {
    "execution": {
     "iopub.execute_input": "2024-05-08T12:40:31.216656Z",
     "iopub.status.busy": "2024-05-08T12:40:31.216281Z",
     "iopub.status.idle": "2024-05-08T12:40:31.220729Z",
     "shell.execute_reply": "2024-05-08T12:40:31.219797Z"
    },
    "papermill": {
     "duration": 3.053628,
     "end_time": "2024-05-08T12:40:31.222617",
     "exception": false,
     "start_time": "2024-05-08T12:40:28.168989",
     "status": "completed"
    },
    "tags": []
   },
   "outputs": [],
   "source": [
    "# submission = pd.read_csv('/kaggle/input/alaska2-image-steganalysis/sample_submission.csv')"
   ]
  },
  {
   "cell_type": "code",
   "execution_count": 30,
   "id": "eb9142d1",
   "metadata": {
    "execution": {
     "iopub.execute_input": "2024-05-08T12:40:37.178741Z",
     "iopub.status.busy": "2024-05-08T12:40:37.178372Z",
     "iopub.status.idle": "2024-05-08T12:40:37.182675Z",
     "shell.execute_reply": "2024-05-08T12:40:37.181706Z"
    },
    "papermill": {
     "duration": 2.904019,
     "end_time": "2024-05-08T12:40:37.184533",
     "exception": false,
     "start_time": "2024-05-08T12:40:34.280514",
     "status": "completed"
    },
    "tags": []
   },
   "outputs": [],
   "source": [
    "# for file_id, label in answers_final.items():\n",
    "#     file_name = f'{file_id}.jpg'\n",
    "#     if file_name in submission['Id'].values:\n",
    "#         submission.loc[submission['Id'] == file_name, 'Label'] = label[0]\n",
    "\n",
    "# # Save the updated submission file\n",
    "# submission.to_csv('updated_submission.csv', index=False)\n",
    "\n",
    "# print(\"Updated submission file is saved as 'updated_submission.csv'.\")"
   ]
  },
  {
   "cell_type": "code",
   "execution_count": null,
   "id": "2fd105a6",
   "metadata": {
    "papermill": {
     "duration": 3.015202,
     "end_time": "2024-05-08T12:40:43.265672",
     "exception": false,
     "start_time": "2024-05-08T12:40:40.250470",
     "status": "completed"
    },
    "tags": []
   },
   "outputs": [],
   "source": []
  },
  {
   "cell_type": "code",
   "execution_count": null,
   "id": "64a2867a",
   "metadata": {
    "papermill": {
     "duration": 3.082842,
     "end_time": "2024-05-08T12:40:49.449053",
     "exception": false,
     "start_time": "2024-05-08T12:40:46.366211",
     "status": "completed"
    },
    "tags": []
   },
   "outputs": [],
   "source": []
  }
 ],
 "metadata": {
  "kaggle": {
   "accelerator": "nvidiaTeslaT4",
   "dataSources": [
    {
     "databundleVersionId": 1117522,
     "sourceId": 19991,
     "sourceType": "competition"
    },
    {
     "datasetId": 4911278,
     "sourceId": 8271786,
     "sourceType": "datasetVersion"
    },
    {
     "isSourceIdPinned": true,
     "modelInstanceId": 37779,
     "sourceId": 44997,
     "sourceType": "modelInstanceVersion"
    }
   ],
   "dockerImageVersionId": 30699,
   "isGpuEnabled": true,
   "isInternetEnabled": true,
   "language": "python",
   "sourceType": "notebook"
  },
  "kernelspec": {
   "display_name": "Python 3",
   "language": "python",
   "name": "python3"
  },
  "language_info": {
   "codemirror_mode": {
    "name": "ipython",
    "version": 3
   },
   "file_extension": ".py",
   "mimetype": "text/x-python",
   "name": "python",
   "nbconvert_exporter": "python",
   "pygments_lexer": "ipython3",
   "version": "3.10.13"
  },
  "papermill": {
   "default_parameters": {},
   "duration": 35141.604748,
   "end_time": "2024-05-08T12:40:55.700584",
   "environment_variables": {},
   "exception": null,
   "input_path": "__notebook__.ipynb",
   "output_path": "__notebook__.ipynb",
   "parameters": {},
   "start_time": "2024-05-08T02:55:14.095836",
   "version": "2.5.0"
  },
  "widgets": {
   "application/vnd.jupyter.widget-state+json": {
    "state": {
     "1170ec6af26849e482522f23f7c70de2": {
      "model_module": "@jupyter-widgets/controls",
      "model_module_version": "1.5.0",
      "model_name": "HTMLModel",
      "state": {
       "_dom_classes": [],
       "_model_module": "@jupyter-widgets/controls",
       "_model_module_version": "1.5.0",
       "_model_name": "HTMLModel",
       "_view_count": null,
       "_view_module": "@jupyter-widgets/controls",
       "_view_module_version": "1.5.0",
       "_view_name": "HTMLView",
       "description": "",
       "description_tooltip": null,
       "layout": "IPY_MODEL_42bc33499a2c49a6a5947b1f0ecb7d41",
       "placeholder": "​",
       "style": "IPY_MODEL_1761b060ed134c0bb0fa02fab9a38502",
       "value": " 6.77k/6.77k [00:00&lt;00:00, 598kB/s]"
      }
     },
     "1631806b89a740ec8e7277639040faec": {
      "model_module": "@jupyter-widgets/controls",
      "model_module_version": "1.5.0",
      "model_name": "FloatProgressModel",
      "state": {
       "_dom_classes": [],
       "_model_module": "@jupyter-widgets/controls",
       "_model_module_version": "1.5.0",
       "_model_name": "FloatProgressModel",
       "_view_count": null,
       "_view_module": "@jupyter-widgets/controls",
       "_view_module_version": "1.5.0",
       "_view_name": "ProgressView",
       "bar_style": "success",
       "description": "",
       "description_tooltip": null,
       "layout": "IPY_MODEL_827feafe918545a6a1d151b6dccc287d",
       "max": 6771.0,
       "min": 0.0,
       "orientation": "horizontal",
       "style": "IPY_MODEL_2de4b8dc9d9e4ead8e9129bea7d32bf0",
       "value": 6771.0
      }
     },
     "1761b060ed134c0bb0fa02fab9a38502": {
      "model_module": "@jupyter-widgets/controls",
      "model_module_version": "1.5.0",
      "model_name": "DescriptionStyleModel",
      "state": {
       "_model_module": "@jupyter-widgets/controls",
       "_model_module_version": "1.5.0",
       "_model_name": "DescriptionStyleModel",
       "_view_count": null,
       "_view_module": "@jupyter-widgets/base",
       "_view_module_version": "1.2.0",
       "_view_name": "StyleView",
       "description_width": ""
      }
     },
     "1924a26aed534fba810279d48376a18c": {
      "model_module": "@jupyter-widgets/controls",
      "model_module_version": "1.5.0",
      "model_name": "DescriptionStyleModel",
      "state": {
       "_model_module": "@jupyter-widgets/controls",
       "_model_module_version": "1.5.0",
       "_model_name": "DescriptionStyleModel",
       "_view_count": null,
       "_view_module": "@jupyter-widgets/base",
       "_view_module_version": "1.2.0",
       "_view_name": "StyleView",
       "description_width": ""
      }
     },
     "2b4b63b1634b4c4489a07b72aabeffe6": {
      "model_module": "@jupyter-widgets/base",
      "model_module_version": "1.2.0",
      "model_name": "LayoutModel",
      "state": {
       "_model_module": "@jupyter-widgets/base",
       "_model_module_version": "1.2.0",
       "_model_name": "LayoutModel",
       "_view_count": null,
       "_view_module": "@jupyter-widgets/base",
       "_view_module_version": "1.2.0",
       "_view_name": "LayoutView",
       "align_content": null,
       "align_items": null,
       "align_self": null,
       "border": null,
       "bottom": null,
       "display": null,
       "flex": null,
       "flex_flow": null,
       "grid_area": null,
       "grid_auto_columns": null,
       "grid_auto_flow": null,
       "grid_auto_rows": null,
       "grid_column": null,
       "grid_gap": null,
       "grid_row": null,
       "grid_template_areas": null,
       "grid_template_columns": null,
       "grid_template_rows": null,
       "height": null,
       "justify_content": null,
       "justify_items": null,
       "left": null,
       "margin": null,
       "max_height": null,
       "max_width": null,
       "min_height": null,
       "min_width": null,
       "object_fit": null,
       "object_position": null,
       "order": null,
       "overflow": null,
       "overflow_x": null,
       "overflow_y": null,
       "padding": null,
       "right": null,
       "top": null,
       "visibility": null,
       "width": null
      }
     },
     "2de4b8dc9d9e4ead8e9129bea7d32bf0": {
      "model_module": "@jupyter-widgets/controls",
      "model_module_version": "1.5.0",
      "model_name": "ProgressStyleModel",
      "state": {
       "_model_module": "@jupyter-widgets/controls",
       "_model_module_version": "1.5.0",
       "_model_name": "ProgressStyleModel",
       "_view_count": null,
       "_view_module": "@jupyter-widgets/base",
       "_view_module_version": "1.2.0",
       "_view_name": "StyleView",
       "bar_color": null,
       "description_width": ""
      }
     },
     "31fb663a01e34d46a1ac30400332b5a6": {
      "model_module": "@jupyter-widgets/base",
      "model_module_version": "1.2.0",
      "model_name": "LayoutModel",
      "state": {
       "_model_module": "@jupyter-widgets/base",
       "_model_module_version": "1.2.0",
       "_model_name": "LayoutModel",
       "_view_count": null,
       "_view_module": "@jupyter-widgets/base",
       "_view_module_version": "1.2.0",
       "_view_name": "LayoutView",
       "align_content": null,
       "align_items": null,
       "align_self": null,
       "border": null,
       "bottom": null,
       "display": null,
       "flex": null,
       "flex_flow": null,
       "grid_area": null,
       "grid_auto_columns": null,
       "grid_auto_flow": null,
       "grid_auto_rows": null,
       "grid_column": null,
       "grid_gap": null,
       "grid_row": null,
       "grid_template_areas": null,
       "grid_template_columns": null,
       "grid_template_rows": null,
       "height": null,
       "justify_content": null,
       "justify_items": null,
       "left": null,
       "margin": null,
       "max_height": null,
       "max_width": null,
       "min_height": null,
       "min_width": null,
       "object_fit": null,
       "object_position": null,
       "order": null,
       "overflow": null,
       "overflow_x": null,
       "overflow_y": null,
       "padding": null,
       "right": null,
       "top": null,
       "visibility": null,
       "width": null
      }
     },
     "3805c270999d4b95bfeb1e21d14a2504": {
      "model_module": "@jupyter-widgets/base",
      "model_module_version": "1.2.0",
      "model_name": "LayoutModel",
      "state": {
       "_model_module": "@jupyter-widgets/base",
       "_model_module_version": "1.2.0",
       "_model_name": "LayoutModel",
       "_view_count": null,
       "_view_module": "@jupyter-widgets/base",
       "_view_module_version": "1.2.0",
       "_view_name": "LayoutView",
       "align_content": null,
       "align_items": null,
       "align_self": null,
       "border": null,
       "bottom": null,
       "display": null,
       "flex": null,
       "flex_flow": null,
       "grid_area": null,
       "grid_auto_columns": null,
       "grid_auto_flow": null,
       "grid_auto_rows": null,
       "grid_column": null,
       "grid_gap": null,
       "grid_row": null,
       "grid_template_areas": null,
       "grid_template_columns": null,
       "grid_template_rows": null,
       "height": null,
       "justify_content": null,
       "justify_items": null,
       "left": null,
       "margin": null,
       "max_height": null,
       "max_width": null,
       "min_height": null,
       "min_width": null,
       "object_fit": null,
       "object_position": null,
       "order": null,
       "overflow": null,
       "overflow_x": null,
       "overflow_y": null,
       "padding": null,
       "right": null,
       "top": null,
       "visibility": null,
       "width": null
      }
     },
     "4017cb9d135241c1911727b2aa7a89c7": {
      "model_module": "@jupyter-widgets/controls",
      "model_module_version": "1.5.0",
      "model_name": "FloatProgressModel",
      "state": {
       "_dom_classes": [],
       "_model_module": "@jupyter-widgets/controls",
       "_model_module_version": "1.5.0",
       "_model_name": "FloatProgressModel",
       "_view_count": null,
       "_view_module": "@jupyter-widgets/controls",
       "_view_module_version": "1.5.0",
       "_view_name": "ProgressView",
       "bar_style": "success",
       "description": "",
       "description_tooltip": null,
       "layout": "IPY_MODEL_3805c270999d4b95bfeb1e21d14a2504",
       "max": 276857388.0,
       "min": 0.0,
       "orientation": "horizontal",
       "style": "IPY_MODEL_e7ded68862984fa7aa1ca13fed1341af",
       "value": 276857388.0
      }
     },
     "42bc33499a2c49a6a5947b1f0ecb7d41": {
      "model_module": "@jupyter-widgets/base",
      "model_module_version": "1.2.0",
      "model_name": "LayoutModel",
      "state": {
       "_model_module": "@jupyter-widgets/base",
       "_model_module_version": "1.2.0",
       "_model_name": "LayoutModel",
       "_view_count": null,
       "_view_module": "@jupyter-widgets/base",
       "_view_module_version": "1.2.0",
       "_view_name": "LayoutView",
       "align_content": null,
       "align_items": null,
       "align_self": null,
       "border": null,
       "bottom": null,
       "display": null,
       "flex": null,
       "flex_flow": null,
       "grid_area": null,
       "grid_auto_columns": null,
       "grid_auto_flow": null,
       "grid_auto_rows": null,
       "grid_column": null,
       "grid_gap": null,
       "grid_row": null,
       "grid_template_areas": null,
       "grid_template_columns": null,
       "grid_template_rows": null,
       "height": null,
       "justify_content": null,
       "justify_items": null,
       "left": null,
       "margin": null,
       "max_height": null,
       "max_width": null,
       "min_height": null,
       "min_width": null,
       "object_fit": null,
       "object_position": null,
       "order": null,
       "overflow": null,
       "overflow_x": null,
       "overflow_y": null,
       "padding": null,
       "right": null,
       "top": null,
       "visibility": null,
       "width": null
      }
     },
     "5c3696c6c4e049079b2fe69daa9e32d7": {
      "model_module": "@jupyter-widgets/base",
      "model_module_version": "1.2.0",
      "model_name": "LayoutModel",
      "state": {
       "_model_module": "@jupyter-widgets/base",
       "_model_module_version": "1.2.0",
       "_model_name": "LayoutModel",
       "_view_count": null,
       "_view_module": "@jupyter-widgets/base",
       "_view_module_version": "1.2.0",
       "_view_name": "LayoutView",
       "align_content": null,
       "align_items": null,
       "align_self": null,
       "border": null,
       "bottom": null,
       "display": null,
       "flex": null,
       "flex_flow": null,
       "grid_area": null,
       "grid_auto_columns": null,
       "grid_auto_flow": null,
       "grid_auto_rows": null,
       "grid_column": null,
       "grid_gap": null,
       "grid_row": null,
       "grid_template_areas": null,
       "grid_template_columns": null,
       "grid_template_rows": null,
       "height": null,
       "justify_content": null,
       "justify_items": null,
       "left": null,
       "margin": null,
       "max_height": null,
       "max_width": null,
       "min_height": null,
       "min_width": null,
       "object_fit": null,
       "object_position": null,
       "order": null,
       "overflow": null,
       "overflow_x": null,
       "overflow_y": null,
       "padding": null,
       "right": null,
       "top": null,
       "visibility": null,
       "width": null
      }
     },
     "5e1f6fbb65174ec4abdf52a9cb2367c5": {
      "model_module": "@jupyter-widgets/controls",
      "model_module_version": "1.5.0",
      "model_name": "HTMLModel",
      "state": {
       "_dom_classes": [],
       "_model_module": "@jupyter-widgets/controls",
       "_model_module_version": "1.5.0",
       "_model_name": "HTMLModel",
       "_view_count": null,
       "_view_module": "@jupyter-widgets/controls",
       "_view_module_version": "1.5.0",
       "_view_name": "HTMLView",
       "description": "",
       "description_tooltip": null,
       "layout": "IPY_MODEL_5c3696c6c4e049079b2fe69daa9e32d7",
       "placeholder": "​",
       "style": "IPY_MODEL_7b9b9cc535bb4c6f8077cbc831c8d92c",
       "value": " 277M/277M [00:01&lt;00:00, 247MB/s]"
      }
     },
     "602ff0a7a1794656bff326c160f9605b": {
      "model_module": "@jupyter-widgets/controls",
      "model_module_version": "1.5.0",
      "model_name": "HTMLModel",
      "state": {
       "_dom_classes": [],
       "_model_module": "@jupyter-widgets/controls",
       "_model_module_version": "1.5.0",
       "_model_name": "HTMLModel",
       "_view_count": null,
       "_view_module": "@jupyter-widgets/controls",
       "_view_module_version": "1.5.0",
       "_view_name": "HTMLView",
       "description": "",
       "description_tooltip": null,
       "layout": "IPY_MODEL_73a23523953a4a6399330e385e9cacaa",
       "placeholder": "​",
       "style": "IPY_MODEL_1924a26aed534fba810279d48376a18c",
       "value": "Downloading builder script: 100%"
      }
     },
     "64f01c47da2748ad89a4a0809e4ebd26": {
      "model_module": "@jupyter-widgets/controls",
      "model_module_version": "1.5.0",
      "model_name": "HBoxModel",
      "state": {
       "_dom_classes": [],
       "_model_module": "@jupyter-widgets/controls",
       "_model_module_version": "1.5.0",
       "_model_name": "HBoxModel",
       "_view_count": null,
       "_view_module": "@jupyter-widgets/controls",
       "_view_module_version": "1.5.0",
       "_view_name": "HBoxView",
       "box_style": "",
       "children": [
        "IPY_MODEL_602ff0a7a1794656bff326c160f9605b",
        "IPY_MODEL_1631806b89a740ec8e7277639040faec",
        "IPY_MODEL_1170ec6af26849e482522f23f7c70de2"
       ],
       "layout": "IPY_MODEL_be9d53c79463436c833c69d553ca4988"
      }
     },
     "73a23523953a4a6399330e385e9cacaa": {
      "model_module": "@jupyter-widgets/base",
      "model_module_version": "1.2.0",
      "model_name": "LayoutModel",
      "state": {
       "_model_module": "@jupyter-widgets/base",
       "_model_module_version": "1.2.0",
       "_model_name": "LayoutModel",
       "_view_count": null,
       "_view_module": "@jupyter-widgets/base",
       "_view_module_version": "1.2.0",
       "_view_name": "LayoutView",
       "align_content": null,
       "align_items": null,
       "align_self": null,
       "border": null,
       "bottom": null,
       "display": null,
       "flex": null,
       "flex_flow": null,
       "grid_area": null,
       "grid_auto_columns": null,
       "grid_auto_flow": null,
       "grid_auto_rows": null,
       "grid_column": null,
       "grid_gap": null,
       "grid_row": null,
       "grid_template_areas": null,
       "grid_template_columns": null,
       "grid_template_rows": null,
       "height": null,
       "justify_content": null,
       "justify_items": null,
       "left": null,
       "margin": null,
       "max_height": null,
       "max_width": null,
       "min_height": null,
       "min_width": null,
       "object_fit": null,
       "object_position": null,
       "order": null,
       "overflow": null,
       "overflow_x": null,
       "overflow_y": null,
       "padding": null,
       "right": null,
       "top": null,
       "visibility": null,
       "width": null
      }
     },
     "7b9b9cc535bb4c6f8077cbc831c8d92c": {
      "model_module": "@jupyter-widgets/controls",
      "model_module_version": "1.5.0",
      "model_name": "DescriptionStyleModel",
      "state": {
       "_model_module": "@jupyter-widgets/controls",
       "_model_module_version": "1.5.0",
       "_model_name": "DescriptionStyleModel",
       "_view_count": null,
       "_view_module": "@jupyter-widgets/base",
       "_view_module_version": "1.2.0",
       "_view_name": "StyleView",
       "description_width": ""
      }
     },
     "827feafe918545a6a1d151b6dccc287d": {
      "model_module": "@jupyter-widgets/base",
      "model_module_version": "1.2.0",
      "model_name": "LayoutModel",
      "state": {
       "_model_module": "@jupyter-widgets/base",
       "_model_module_version": "1.2.0",
       "_model_name": "LayoutModel",
       "_view_count": null,
       "_view_module": "@jupyter-widgets/base",
       "_view_module_version": "1.2.0",
       "_view_name": "LayoutView",
       "align_content": null,
       "align_items": null,
       "align_self": null,
       "border": null,
       "bottom": null,
       "display": null,
       "flex": null,
       "flex_flow": null,
       "grid_area": null,
       "grid_auto_columns": null,
       "grid_auto_flow": null,
       "grid_auto_rows": null,
       "grid_column": null,
       "grid_gap": null,
       "grid_row": null,
       "grid_template_areas": null,
       "grid_template_columns": null,
       "grid_template_rows": null,
       "height": null,
       "justify_content": null,
       "justify_items": null,
       "left": null,
       "margin": null,
       "max_height": null,
       "max_width": null,
       "min_height": null,
       "min_width": null,
       "object_fit": null,
       "object_position": null,
       "order": null,
       "overflow": null,
       "overflow_x": null,
       "overflow_y": null,
       "padding": null,
       "right": null,
       "top": null,
       "visibility": null,
       "width": null
      }
     },
     "b2e6db8647f64331b7c2112ec0b1d823": {
      "model_module": "@jupyter-widgets/controls",
      "model_module_version": "1.5.0",
      "model_name": "DescriptionStyleModel",
      "state": {
       "_model_module": "@jupyter-widgets/controls",
       "_model_module_version": "1.5.0",
       "_model_name": "DescriptionStyleModel",
       "_view_count": null,
       "_view_module": "@jupyter-widgets/base",
       "_view_module_version": "1.2.0",
       "_view_name": "StyleView",
       "description_width": ""
      }
     },
     "badf10f14fcc445fa54758f87d90a17a": {
      "model_module": "@jupyter-widgets/controls",
      "model_module_version": "1.5.0",
      "model_name": "HBoxModel",
      "state": {
       "_dom_classes": [],
       "_model_module": "@jupyter-widgets/controls",
       "_model_module_version": "1.5.0",
       "_model_name": "HBoxModel",
       "_view_count": null,
       "_view_module": "@jupyter-widgets/controls",
       "_view_module_version": "1.5.0",
       "_view_name": "HBoxView",
       "box_style": "",
       "children": [
        "IPY_MODEL_cfb91caf20194197a27752341d5dbc0e",
        "IPY_MODEL_4017cb9d135241c1911727b2aa7a89c7",
        "IPY_MODEL_5e1f6fbb65174ec4abdf52a9cb2367c5"
       ],
       "layout": "IPY_MODEL_2b4b63b1634b4c4489a07b72aabeffe6"
      }
     },
     "be9d53c79463436c833c69d553ca4988": {
      "model_module": "@jupyter-widgets/base",
      "model_module_version": "1.2.0",
      "model_name": "LayoutModel",
      "state": {
       "_model_module": "@jupyter-widgets/base",
       "_model_module_version": "1.2.0",
       "_model_name": "LayoutModel",
       "_view_count": null,
       "_view_module": "@jupyter-widgets/base",
       "_view_module_version": "1.2.0",
       "_view_name": "LayoutView",
       "align_content": null,
       "align_items": null,
       "align_self": null,
       "border": null,
       "bottom": null,
       "display": null,
       "flex": null,
       "flex_flow": null,
       "grid_area": null,
       "grid_auto_columns": null,
       "grid_auto_flow": null,
       "grid_auto_rows": null,
       "grid_column": null,
       "grid_gap": null,
       "grid_row": null,
       "grid_template_areas": null,
       "grid_template_columns": null,
       "grid_template_rows": null,
       "height": null,
       "justify_content": null,
       "justify_items": null,
       "left": null,
       "margin": null,
       "max_height": null,
       "max_width": null,
       "min_height": null,
       "min_width": null,
       "object_fit": null,
       "object_position": null,
       "order": null,
       "overflow": null,
       "overflow_x": null,
       "overflow_y": null,
       "padding": null,
       "right": null,
       "top": null,
       "visibility": null,
       "width": null
      }
     },
     "cfb91caf20194197a27752341d5dbc0e": {
      "model_module": "@jupyter-widgets/controls",
      "model_module_version": "1.5.0",
      "model_name": "HTMLModel",
      "state": {
       "_dom_classes": [],
       "_model_module": "@jupyter-widgets/controls",
       "_model_module_version": "1.5.0",
       "_model_name": "HTMLModel",
       "_view_count": null,
       "_view_module": "@jupyter-widgets/controls",
       "_view_module_version": "1.5.0",
       "_view_name": "HTMLView",
       "description": "",
       "description_tooltip": null,
       "layout": "IPY_MODEL_31fb663a01e34d46a1ac30400332b5a6",
       "placeholder": "​",
       "style": "IPY_MODEL_b2e6db8647f64331b7c2112ec0b1d823",
       "value": "model.safetensors: 100%"
      }
     },
     "e7ded68862984fa7aa1ca13fed1341af": {
      "model_module": "@jupyter-widgets/controls",
      "model_module_version": "1.5.0",
      "model_name": "ProgressStyleModel",
      "state": {
       "_model_module": "@jupyter-widgets/controls",
       "_model_module_version": "1.5.0",
       "_model_name": "ProgressStyleModel",
       "_view_count": null,
       "_view_module": "@jupyter-widgets/base",
       "_view_module_version": "1.2.0",
       "_view_name": "StyleView",
       "bar_color": null,
       "description_width": ""
      }
     }
    },
    "version_major": 2,
    "version_minor": 0
   }
  }
 },
 "nbformat": 4,
 "nbformat_minor": 5
}
