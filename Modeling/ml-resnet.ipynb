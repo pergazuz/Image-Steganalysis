{
 "cells": [
  {
   "cell_type": "code",
   "execution_count": 1,
   "id": "792adb31",
   "metadata": {
    "execution": {
     "iopub.execute_input": "2024-05-08T17:45:52.797565Z",
     "iopub.status.busy": "2024-05-08T17:45:52.797271Z",
     "iopub.status.idle": "2024-05-08T17:45:52.802458Z",
     "shell.execute_reply": "2024-05-08T17:45:52.801632Z"
    },
    "papermill": {
     "duration": 0.012336,
     "end_time": "2024-05-08T17:45:52.804524",
     "exception": false,
     "start_time": "2024-05-08T17:45:52.792188",
     "status": "completed"
    },
    "tags": []
   },
   "outputs": [],
   "source": [
    "# import tensorflow as tf\n",
    "\n",
    "# # Define parameters\n",
    "# batch_size = 32\n",
    "# image_size = (224,224)\n",
    "\n",
    "# # Create training dataset\n",
    "# train_set = tf.keras.utils.image_dataset_from_directory(\n",
    "#     '/kaggle/input/ml-dataset/dataset/training',\n",
    "#     image_size=image_size,\n",
    "#     batch_size=batch_size,\n",
    "#     color_mode=\"rgb\",\n",
    "#     shuffle=True,\n",
    "#     label_mode='categorical'\n",
    "# )\n",
    "\n",
    "# # Create validation dataset\n",
    "# val_set = tf.keras.utils.image_dataset_from_directory(\n",
    "#     '/kaggle/input/ml-dataset/dataset/validation',\n",
    "#     image_size=image_size,\n",
    "#     batch_size=batch_size,\n",
    "#     color_mode=\"rgb\",\n",
    "#     shuffle=True,\n",
    "#     label_mode='categorical'\n",
    "# )"
   ]
  },
  {
   "cell_type": "code",
   "execution_count": 2,
   "id": "945256a0",
   "metadata": {
    "execution": {
     "iopub.execute_input": "2024-05-08T17:45:52.813831Z",
     "iopub.status.busy": "2024-05-08T17:45:52.813049Z",
     "iopub.status.idle": "2024-05-08T17:45:52.818318Z",
     "shell.execute_reply": "2024-05-08T17:45:52.817492Z"
    },
    "papermill": {
     "duration": 0.011862,
     "end_time": "2024-05-08T17:45:52.820349",
     "exception": false,
     "start_time": "2024-05-08T17:45:52.808487",
     "status": "completed"
    },
    "tags": []
   },
   "outputs": [],
   "source": [
    "# import tensorflow as tf\n",
    "# from cvt.models import CvT\n",
    "\n",
    "# # Define parameters\n",
    "# batch_size = 32\n",
    "# image_size = (224, 224)\n",
    "\n",
    "# # Create training dataset\n",
    "# train_set = tf.keras.utils.image_dataset_from_directory(\n",
    "#     '/kaggle/input/ml-dataset/dataset/training',\n",
    "#     image_size=image_size,\n",
    "#     batch_size=batch_size,\n",
    "#     color_mode=\"rgb\",\n",
    "#     shuffle=True,\n",
    "#     label_mode='categorical'\n",
    "# )\n",
    "\n",
    "# # Create validation dataset\n",
    "# val_set = tf.keras.utils.image_dataset_from_directory(\n",
    "#     '/kaggle/input/ml-dataset/dataset/validation',\n",
    "#     image_size=image_size,\n",
    "#     batch_size=batch_size,\n",
    "#     color_mode=\"rgb\",\n",
    "#     shuffle=True,\n",
    "#     label_mode='categorical'\n",
    "# )\n",
    "\n",
    "# # Create CvT-B/16 model\n",
    "# num_classes = len(train_set.class_names)\n",
    "# cvt_model = CvT(\n",
    "#     image_size=image_size,\n",
    "#     num_classes=num_classes,\n",
    "#     num_layers=12,  # This value might need adjustment based on the CvT-B/16 architecture\n",
    "#     patch_size=4,\n",
    "#     dim=384,\n",
    "#     heads=8,\n",
    "#     mlp_dim=1024\n",
    "# )\n",
    "\n",
    "# # Compile the model\n",
    "# cvt_model.compile(\n",
    "#     optimizer='adam',\n",
    "#     loss='categorical_crossentropy',\n",
    "#     metrics=['accuracy']\n",
    "# )\n",
    "\n",
    "# # Train the model\n",
    "# cvt_model.fit(\n",
    "#     train_set,\n",
    "#     validation_data=val_set,\n",
    "#     epochs=10\n",
    "# )\n"
   ]
  },
  {
   "cell_type": "code",
   "execution_count": 3,
   "id": "93d2b6c4",
   "metadata": {
    "execution": {
     "iopub.execute_input": "2024-05-08T17:45:52.828536Z",
     "iopub.status.busy": "2024-05-08T17:45:52.828268Z",
     "iopub.status.idle": "2024-05-08T17:45:52.835963Z",
     "shell.execute_reply": "2024-05-08T17:45:52.835140Z"
    },
    "papermill": {
     "duration": 0.013974,
     "end_time": "2024-05-08T17:45:52.837892",
     "exception": false,
     "start_time": "2024-05-08T17:45:52.823918",
     "status": "completed"
    },
    "tags": []
   },
   "outputs": [],
   "source": [
    "# import tensorflow as tf\n",
    "# from tensorflow.keras import layers\n",
    "\n",
    "# # Define Residual Block\n",
    "# def residual_block(x, filters, kernel_size, strides=1, activation='relu'):\n",
    "#     y = layers.Conv2D(filters, kernel_size, strides=strides, padding='same')(x)\n",
    "#     y = layers.BatchNormalization()(y)\n",
    "#     y = layers.Activation(activation)(y)\n",
    "\n",
    "#     y = layers.Conv2D(filters, kernel_size, strides=1, padding='same')(y)\n",
    "#     y = layers.BatchNormalization()(y)\n",
    "\n",
    "#     if strides != 1 or x.shape[-1] != filters:\n",
    "#         x = layers.Conv2D(filters, 1, strides=strides, padding='same')(x)\n",
    "#     out = layers.add([x, y])\n",
    "#     out = layers.Activation(activation)(out)\n",
    "#     return out\n",
    "\n",
    "# # Define ResNet Model\n",
    "# def ResNet(input_shape, num_classes):\n",
    "#     inputs = layers.Input(shape=input_shape)\n",
    "#     x = layers.Conv2D(64, 7, strides=2, padding='same')(inputs)\n",
    "#     x = layers.BatchNormalization()(x)\n",
    "#     x = layers.Activation('relu')(x)\n",
    "#     x = layers.MaxPooling2D(3, strides=2, padding='same')(x)\n",
    "\n",
    "#     # Stack of residual blocks\n",
    "#     x = residual_block(x, filters=64, kernel_size=3)\n",
    "#     x = residual_block(x, filters=64, kernel_size=3)\n",
    "#     x = residual_block(x, filters=64, kernel_size=3, strides=2)\n",
    "#     x = residual_block(x, filters=128, kernel_size=3)\n",
    "#     x = residual_block(x, filters=128, kernel_size=3, strides=2)\n",
    "#     x = residual_block(x, filters=256, kernel_size=3)\n",
    "#     x = residual_block(x, filters=256, kernel_size=3, strides=2)\n",
    "#     x = residual_block(x, filters=512, kernel_size=3)\n",
    "#     x = residual_block(x, filters=512, kernel_size=3, strides=2)\n",
    "\n",
    "#     # Global Average Pooling\n",
    "#     x = layers.GlobalAveragePooling2D()(x)\n",
    "#     outputs = layers.Dense(num_classes, activation='softmax')(x)\n",
    "\n",
    "#     # Create model\n",
    "#     model = tf.keras.Model(inputs, outputs)\n",
    "#     return model\n",
    "\n",
    "# # Define parameters\n",
    "# batch_size = 32\n",
    "# image_size = (224, 224)\n",
    "# num_classes = len(train_set.class_names)\n",
    "\n",
    "# # Create training dataset\n",
    "# train_set = tf.keras.utils.image_dataset_from_directory(\n",
    "#     '/kaggle/input/ml-dataset/dataset/training',\n",
    "#     image_size=image_size,\n",
    "#     batch_size=batch_size,\n",
    "#     color_mode=\"rgb\",\n",
    "#     shuffle=True,\n",
    "#     label_mode='categorical'\n",
    "# )\n",
    "\n",
    "# # Create validation dataset\n",
    "# val_set = tf.keras.utils.image_dataset_from_directory(\n",
    "#     '/kaggle/input/ml-dataset/dataset/validation',\n",
    "#     image_size=image_size,\n",
    "#     batch_size=batch_size,\n",
    "#     color_mode=\"rgb\",\n",
    "#     shuffle=True,\n",
    "#     label_mode='categorical'\n",
    "# )\n",
    "\n",
    "# # Initialize and compile ResNet model\n",
    "# resnet_model = ResNet(input_shape=(image_size[0], image_size[1], 3), num_classes=num_classes)\n",
    "# resnet_model.compile(\n",
    "#     optimizer='adam',\n",
    "#     loss='categorical_crossentropy',\n",
    "#     metrics=['accuracy']\n",
    "# )\n",
    "\n",
    "# # Train the model\n",
    "# resnet_model.fit(\n",
    "#     train_set,\n",
    "#     validation_data=val_set,\n",
    "#     epochs=10\n",
    "# )\n"
   ]
  },
  {
   "cell_type": "code",
   "execution_count": 4,
   "id": "8a5836d3",
   "metadata": {
    "execution": {
     "iopub.execute_input": "2024-05-08T17:45:52.846059Z",
     "iopub.status.busy": "2024-05-08T17:45:52.845586Z",
     "iopub.status.idle": "2024-05-08T17:45:52.854678Z",
     "shell.execute_reply": "2024-05-08T17:45:52.853797Z"
    },
    "papermill": {
     "duration": 0.015121,
     "end_time": "2024-05-08T17:45:52.856553",
     "exception": false,
     "start_time": "2024-05-08T17:45:52.841432",
     "status": "completed"
    },
    "tags": []
   },
   "outputs": [],
   "source": [
    "# Define parameters\n",
    "batch_size = 32\n",
    "image_size = (512,512)"
   ]
  },
  {
   "cell_type": "code",
   "execution_count": 5,
   "id": "7ade1faf",
   "metadata": {
    "execution": {
     "iopub.execute_input": "2024-05-08T17:45:52.864923Z",
     "iopub.status.busy": "2024-05-08T17:45:52.864663Z",
     "iopub.status.idle": "2024-05-08T18:46:23.782604Z",
     "shell.execute_reply": "2024-05-08T18:46:23.781618Z"
    },
    "papermill": {
     "duration": 3631.586921,
     "end_time": "2024-05-08T18:46:24.447015",
     "exception": false,
     "start_time": "2024-05-08T17:45:52.860094",
     "status": "completed"
    },
    "tags": []
   },
   "outputs": [
    {
     "name": "stderr",
     "output_type": "stream",
     "text": [
      "2024-05-08 17:45:54.578460: E external/local_xla/xla/stream_executor/cuda/cuda_dnn.cc:9261] Unable to register cuDNN factory: Attempting to register factory for plugin cuDNN when one has already been registered\n",
      "2024-05-08 17:45:54.578557: E external/local_xla/xla/stream_executor/cuda/cuda_fft.cc:607] Unable to register cuFFT factory: Attempting to register factory for plugin cuFFT when one has already been registered\n",
      "2024-05-08 17:45:54.702017: E external/local_xla/xla/stream_executor/cuda/cuda_blas.cc:1515] Unable to register cuBLAS factory: Attempting to register factory for plugin cuBLAS when one has already been registered\n"
     ]
    },
    {
     "name": "stdout",
     "output_type": "stream",
     "text": [
      "Found 28000 files belonging to 4 classes.\n",
      "Found 8000 files belonging to 4 classes.\n",
      "Epoch 1/10\n"
     ]
    },
    {
     "name": "stderr",
     "output_type": "stream",
     "text": [
      "WARNING: All log messages before absl::InitializeLog() is called are written to STDERR\n",
      "I0000 00:00:1715190448.676699      77 device_compiler.h:186] Compiled cluster using XLA!  This line is logged at most once for the lifetime of the process.\n"
     ]
    },
    {
     "name": "stdout",
     "output_type": "stream",
     "text": [
      "\u001b[1m875/875\u001b[0m \u001b[32m━━━━━━━━━━━━━━━━━━━━\u001b[0m\u001b[37m\u001b[0m \u001b[1m436s\u001b[0m 415ms/step - accuracy: 0.2514 - loss: 1.4867 - val_accuracy: 0.2498 - val_loss: 1.3886\n",
      "Epoch 2/10\n",
      "\u001b[1m875/875\u001b[0m \u001b[32m━━━━━━━━━━━━━━━━━━━━\u001b[0m\u001b[37m\u001b[0m \u001b[1m363s\u001b[0m 414ms/step - accuracy: 0.2545 - loss: 1.3865 - val_accuracy: 0.2500 - val_loss: 1.3863\n",
      "Epoch 3/10\n",
      "\u001b[1m875/875\u001b[0m \u001b[32m━━━━━━━━━━━━━━━━━━━━\u001b[0m\u001b[37m\u001b[0m \u001b[1m360s\u001b[0m 411ms/step - accuracy: 0.2499 - loss: 1.3865 - val_accuracy: 0.2500 - val_loss: 1.3863\n",
      "Epoch 4/10\n",
      "\u001b[1m875/875\u001b[0m \u001b[32m━━━━━━━━━━━━━━━━━━━━\u001b[0m\u001b[37m\u001b[0m \u001b[1m353s\u001b[0m 402ms/step - accuracy: 0.2483 - loss: 1.3864 - val_accuracy: 0.2500 - val_loss: 1.3863\n",
      "Epoch 5/10\n",
      "\u001b[1m875/875\u001b[0m \u001b[32m━━━━━━━━━━━━━━━━━━━━\u001b[0m\u001b[37m\u001b[0m \u001b[1m349s\u001b[0m 399ms/step - accuracy: 0.2512 - loss: 1.3864 - val_accuracy: 0.2500 - val_loss: 1.3863\n",
      "Epoch 6/10\n",
      "\u001b[1m875/875\u001b[0m \u001b[32m━━━━━━━━━━━━━━━━━━━━\u001b[0m\u001b[37m\u001b[0m \u001b[1m349s\u001b[0m 398ms/step - accuracy: 0.2486 - loss: 1.3864 - val_accuracy: 0.2500 - val_loss: 1.3863\n",
      "Epoch 7/10\n",
      "\u001b[1m875/875\u001b[0m \u001b[32m━━━━━━━━━━━━━━━━━━━━\u001b[0m\u001b[37m\u001b[0m \u001b[1m348s\u001b[0m 397ms/step - accuracy: 0.2477 - loss: 1.3864 - val_accuracy: 0.2500 - val_loss: 1.3863\n",
      "Epoch 8/10\n",
      "\u001b[1m875/875\u001b[0m \u001b[32m━━━━━━━━━━━━━━━━━━━━\u001b[0m\u001b[37m\u001b[0m \u001b[1m354s\u001b[0m 404ms/step - accuracy: 0.2521 - loss: 1.3864 - val_accuracy: 0.2500 - val_loss: 1.3863\n",
      "Epoch 9/10\n",
      "\u001b[1m875/875\u001b[0m \u001b[32m━━━━━━━━━━━━━━━━━━━━\u001b[0m\u001b[37m\u001b[0m \u001b[1m347s\u001b[0m 396ms/step - accuracy: 0.2483 - loss: 1.3864 - val_accuracy: 0.2500 - val_loss: 1.3863\n",
      "Epoch 10/10\n",
      "\u001b[1m875/875\u001b[0m \u001b[32m━━━━━━━━━━━━━━━━━━━━\u001b[0m\u001b[37m\u001b[0m \u001b[1m348s\u001b[0m 396ms/step - accuracy: 0.2487 - loss: 1.3864 - val_accuracy: 0.2500 - val_loss: 1.3863\n"
     ]
    },
    {
     "data": {
      "text/plain": [
       "<keras.src.callbacks.history.History at 0x7f48c0738220>"
      ]
     },
     "execution_count": 5,
     "metadata": {},
     "output_type": "execute_result"
    }
   ],
   "source": [
    "import tensorflow as tf\n",
    "from tensorflow.keras import layers\n",
    "train_set = tf.keras.utils.image_dataset_from_directory(\n",
    "    '/kaggle/input/ml-dataset/dataset/training',\n",
    "    image_size=image_size,\n",
    "    batch_size=batch_size,\n",
    "    color_mode=\"rgb\",\n",
    "    shuffle=True,\n",
    "    label_mode='categorical'\n",
    ")\n",
    "\n",
    "# Create validation dataset\n",
    "val_set = tf.keras.utils.image_dataset_from_directory(\n",
    "    '/kaggle/input/ml-dataset/dataset/validation',\n",
    "    image_size=image_size,\n",
    "    batch_size=batch_size,\n",
    "    color_mode=\"rgb\",\n",
    "    shuffle=True,\n",
    "    label_mode='categorical'\n",
    ")\n",
    "\n",
    "num_classes = len(train_set.class_names)\n",
    "# Define Residual Block\n",
    "def residual_block(x, filters, kernel_size, strides=1, activation='relu'):\n",
    "    y = layers.Conv2D(filters, kernel_size, strides=strides, padding='same')(x)\n",
    "    y = layers.BatchNormalization()(y)\n",
    "    y = layers.Activation(activation)(y)\n",
    "\n",
    "    y = layers.Conv2D(filters, kernel_size, strides=1, padding='same')(y)\n",
    "    y = layers.BatchNormalization()(y)\n",
    "\n",
    "    if strides != 1 or x.shape[-1] != filters:\n",
    "        x = layers.Conv2D(filters, 1, strides=strides, padding='same')(x)\n",
    "    out = layers.add([x, y])\n",
    "    out = layers.Activation(activation)(out)\n",
    "    return out\n",
    "\n",
    "# Define ResNet Model\n",
    "def ResNet(input_shape, num_classes):\n",
    "    inputs = layers.Input(shape=input_shape)\n",
    "    x = layers.Conv2D(64, 7, strides=2, padding='same')(inputs)\n",
    "    x = layers.BatchNormalization()(x)\n",
    "    x = layers.Activation('relu')(x)\n",
    "    x = layers.MaxPooling2D(3, strides=2, padding='same')(x)\n",
    "\n",
    "    # Stack of residual blocks\n",
    "    x = residual_block(x, filters=64, kernel_size=3)\n",
    "    x = residual_block(x, filters=64, kernel_size=3)\n",
    "    x = residual_block(x, filters=64, kernel_size=3, strides=2)\n",
    "    x = residual_block(x, filters=128, kernel_size=3)\n",
    "    x = residual_block(x, filters=128, kernel_size=3, strides=2)\n",
    "    x = residual_block(x, filters=256, kernel_size=3)\n",
    "    x = residual_block(x, filters=256, kernel_size=3, strides=2)\n",
    "    x = residual_block(x, filters=512, kernel_size=3)\n",
    "    x = residual_block(x, filters=512, kernel_size=3, strides=2)\n",
    "\n",
    "    # Global Average Pooling\n",
    "    x = layers.GlobalAveragePooling2D()(x)\n",
    "    outputs = layers.Dense(num_classes, activation='softmax')(x)\n",
    "\n",
    "    # Create model\n",
    "    model = tf.keras.Model(inputs, outputs)\n",
    "    return model\n",
    "\n",
    "\n",
    "\n",
    "\n",
    "# Initialize and compile ResNet model\n",
    "resnet_model = ResNet(input_shape=(image_size[0], image_size[1], 3), num_classes=num_classes)\n",
    "resnet_model.compile(\n",
    "    optimizer='adam',\n",
    "    loss='categorical_crossentropy',\n",
    "    metrics=['accuracy']\n",
    ")\n",
    "\n",
    "# Train the model\n",
    "resnet_model.fit(\n",
    "    train_set,\n",
    "    validation_data=val_set,\n",
    "    epochs=10\n",
    ")\n"
   ]
  },
  {
   "cell_type": "code",
   "execution_count": null,
   "id": "86e40a4d",
   "metadata": {
    "papermill": {
     "duration": 0.706198,
     "end_time": "2024-05-08T18:46:25.917597",
     "exception": false,
     "start_time": "2024-05-08T18:46:25.211399",
     "status": "completed"
    },
    "tags": []
   },
   "outputs": [],
   "source": []
  },
  {
   "cell_type": "markdown",
   "id": "44ac72a4",
   "metadata": {
    "papermill": {
     "duration": 0.707424,
     "end_time": "2024-05-08T18:46:27.331508",
     "exception": false,
     "start_time": "2024-05-08T18:46:26.624084",
     "status": "completed"
    },
    "tags": []
   },
   "source": []
  },
  {
   "cell_type": "code",
   "execution_count": 6,
   "id": "016ab713",
   "metadata": {
    "execution": {
     "iopub.execute_input": "2024-05-08T18:46:28.835534Z",
     "iopub.status.busy": "2024-05-08T18:46:28.835160Z",
     "iopub.status.idle": "2024-05-08T18:46:28.841434Z",
     "shell.execute_reply": "2024-05-08T18:46:28.840561Z"
    },
    "papermill": {
     "duration": 0.721251,
     "end_time": "2024-05-08T18:46:28.843393",
     "exception": false,
     "start_time": "2024-05-08T18:46:28.122142",
     "status": "completed"
    },
    "tags": []
   },
   "outputs": [],
   "source": [
    "# import tensorflow as tf\n",
    "# from tensorflow.keras.layers import Input, Dense\n",
    "# from tensorflow.keras.applications import ResNet50\n",
    "# from tensorflow.keras.models import Model\n",
    "# from tensorflow.keras.optimizers import Adam\n",
    "\n",
    "# # Define parameters\n",
    "# batch_size = 32\n",
    "# image_size = (224, 224)\n",
    "# num_classes = 4  # จำนวนของ class ที่ต้องการจำแนก\n",
    "\n",
    "# # Create training dataset\n",
    "# train_set = tf.keras.utils.image_dataset_from_directory(\n",
    "#     '/kaggle/input/ml-dataset/dataset/training',\n",
    "#     image_size=image_size,\n",
    "#     batch_size=batch_size,\n",
    "#     color_mode=\"rgb\",\n",
    "#     shuffle=True,\n",
    "#     label_mode='categorical'\n",
    "# )\n",
    "\n",
    "# # Create validation dataset\n",
    "# val_set = tf.keras.utils.image_dataset_from_directory(\n",
    "#     '/kaggle/input/ml-dataset/dataset/validation',\n",
    "#     image_size=image_size,\n",
    "#     batch_size=batch_size,\n",
    "#     color_mode=\"rgb\",\n",
    "#     shuffle=True,\n",
    "#     label_mode='categorical'\n",
    "# )\n",
    "\n",
    "# # Load pre-trained ResNet50 model with ImageNet weights\n",
    "# base_model = ResNet50(\n",
    "#     include_top=False,  # Exclude classification head\n",
    "#     weights='imagenet',  # Load pre-trained weights\n",
    "#     input_tensor=Input(shape=(image_size[0], image_size[1], 3)),  # Input image shape\n",
    "# )\n",
    "\n",
    "# # Add classification head\n",
    "# x = base_model.output\n",
    "# x = tf.keras.layers.GlobalAveragePooling2D()(x)\n",
    "# x = tf.keras.layers.Dense(1024, activation='relu')(x)\n",
    "# x = tf.keras.layers.Dense(512, activation='relu')(x)\n",
    "# predictions = tf.keras.layers.Dense(num_classes, activation='softmax')(x)\n",
    "\n",
    "# # Create model\n",
    "# resnet_model = Model(inputs=base_model.input, outputs=predictions)\n",
    "\n",
    "# # Freeze layers in the base model\n",
    "# for layer in base_model.layers:\n",
    "#     layer.trainable = False\n",
    "\n",
    "# # Compile the model\n",
    "# resnet_model.compile(\n",
    "#     optimizer=Adam(),\n",
    "#     loss='categorical_crossentropy',\n",
    "#     metrics=['accuracy']\n",
    "# )\n",
    "\n",
    "# # Train the model\n",
    "# resnet_model.fit(\n",
    "#     train_set,\n",
    "#     validation_data=val_set,\n",
    "#     epochs=10\n",
    "# )\n"
   ]
  },
  {
   "cell_type": "code",
   "execution_count": 7,
   "id": "4a424f0f",
   "metadata": {
    "execution": {
     "iopub.execute_input": "2024-05-08T18:46:30.341607Z",
     "iopub.status.busy": "2024-05-08T18:46:30.341232Z",
     "iopub.status.idle": "2024-05-08T18:46:30.763512Z",
     "shell.execute_reply": "2024-05-08T18:46:30.762558Z"
    },
    "papermill": {
     "duration": 1.203375,
     "end_time": "2024-05-08T18:46:30.765862",
     "exception": false,
     "start_time": "2024-05-08T18:46:29.562487",
     "status": "completed"
    },
    "tags": []
   },
   "outputs": [],
   "source": [
    "import os\n",
    "import tensorflow as tf\n",
    "\n",
    "# Assuming `resnet_model` is your trained model\n",
    "model_path = '/kaggle/working/resnet_model_512.h5'  # Example file path with .h5 extension\n",
    "resnet_model.save(model_path)\n"
   ]
  }
 ],
 "metadata": {
  "kaggle": {
   "accelerator": "nvidiaTeslaT4",
   "dataSources": [
    {
     "datasetId": 4911278,
     "sourceId": 8271786,
     "sourceType": "datasetVersion"
    },
    {
     "datasetId": 4912132,
     "sourceId": 8272911,
     "sourceType": "datasetVersion"
    },
    {
     "isSourceIdPinned": true,
     "modelInstanceId": 37475,
     "sourceId": 44609,
     "sourceType": "modelInstanceVersion"
    }
   ],
   "dockerImageVersionId": 30700,
   "isGpuEnabled": true,
   "isInternetEnabled": true,
   "language": "python",
   "sourceType": "notebook"
  },
  "kernelspec": {
   "display_name": "Python 3",
   "language": "python",
   "name": "python3"
  },
  "language_info": {
   "codemirror_mode": {
    "name": "ipython",
    "version": 3
   },
   "file_extension": ".py",
   "mimetype": "text/x-python",
   "name": "python",
   "nbconvert_exporter": "python",
   "pygments_lexer": "ipython3",
   "version": "3.10.13"
  },
  "papermill": {
   "default_parameters": {},
   "duration": 3644.364135,
   "end_time": "2024-05-08T18:46:34.509401",
   "environment_variables": {},
   "exception": null,
   "input_path": "__notebook__.ipynb",
   "output_path": "__notebook__.ipynb",
   "parameters": {},
   "start_time": "2024-05-08T17:45:50.145266",
   "version": "2.5.0"
  }
 },
 "nbformat": 4,
 "nbformat_minor": 5
}
